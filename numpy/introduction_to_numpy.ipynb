{
 "cells": [
  {
   "cell_type": "markdown",
   "metadata": {},
   "source": [
    "# Introduction to Numpy\n",
    "\n",
    "![NumPy](img/numpy_logo.jpg)"
   ]
  },
  {
   "cell_type": "markdown",
   "metadata": {},
   "source": [
    "### Outline\n",
    "* [Attribution](#attribution)\n",
    "* [What Is Numpy?](#what-is-numpy)\n",
    "* [Why Numpy?](#why-numpy)\n",
    "* [Installing Numpy](#installing-numpy)\n",
    "    * with a stack\n",
    "    * with pip\n",
    "* [Getting started](#getting-started)\n",
    "* [ndarray](#ndarray)\n",
    "* [Creating single dimentional arrays with a python list](#single-dimentional-arrays-with-python-list)\n",
    "* [Array attributes](#array-attributes)\n",
    "    * dtype\n",
    "    * ndim\n",
    "    * size\n",
    "    * shape\n",
    "    * itemsize\n",
    "    * data\n",
    "* [Creating multi-dimentional arrays with python sequences](#multi-dimentional-arrays-with-python-sequences)\n",
    "* [More creational routines](#more-creational-routines)\n",
    "   * zeros\n",
    "   * ones\n",
    "   * arange\n",
    "* [Array manipulation routines](#array-manipulation-routines) \n",
    "    * reshape\n",
    "    * ravel\n",
    "* More routines\n",
    "    * linspace\n",
    "    * random\n",
    "* [Structured arrays](#structured-arrays)\n",
    "* [Basic operations](#basic-operations)\n",
    "    * Scalar addition\n",
    "    * Scalar multiplication\n",
    "    * Element-wise addition\n",
    "    * Element-wise subtraction\n",
    "    * Element-wise multiplication\n",
    "    * Matrix dot product\n",
    "* [Universal functions](#universal-functions)\n",
    "* [Aggregate functions](#aggregate-functions)\n",
    "    * sum\n",
    "    * min \n",
    "    * max \n",
    "    * mean \n",
    "    * std\n",
    "* [Indexing](#indexing)\n",
    "    * Single element indexing\n",
    "    * Slicing\n",
    "* [Iteration](#iteration)\n",
    "* Conditions and boolean arrays\n",
    "* Array manipulation\n",
    "    * joining arrays\n",
    "        * vstack\n",
    "        * hstack\n",
    "        * column_stack\n",
    "        * row_stack\n",
    "    * spliting arrays\n",
    "        * hsplit\n",
    "        * vsplit\n",
    "        * split\n",
    "* Vectorization\n",
    "* Broadcasting\n",
    "* Reading and writing data on files\n",
    "    * saving data as binary\n",
    "    * loading binary data\n",
    "    * reading tabular data\n",
    "    * \n",
    " "
   ]
  },
  {
   "cell_type": "markdown",
   "metadata": {},
   "source": [
    "<a id=\"attribution\"></a>\n",
    "### Attribution\n",
    "\n",
    "* [NumPy](https://numpy.org/)  \n",
    "* [Python Data Science Handbook](https://jakevdp.github.io/PythonDataScienceHandbook/)\n"
   ]
  },
  {
   "cell_type": "markdown",
   "metadata": {},
   "source": [
    "<a id=\"what-is-numpy\"></a>\n",
    "### What Is Numpy?\n",
    "\n",
    "* Short for Numerical Python.\n",
    "* Numpy is a package for scientific computing with Python.\n",
    "\n",
    "[More information](https://numpy.org/doc/1.17/user/whatisnumpy.html)"
   ]
  },
  {
   "cell_type": "markdown",
   "metadata": {},
   "source": [
    "<a id=\"why-numpy\"></a>\n",
    "### Why Numpy?\n",
    "\n",
    "* Efficient storage and manipulation of numerical arrays.\n",
    "* NumPy arrays form the core of nearly the entire ecosystem of data science tools in Python."
   ]
  },
  {
   "cell_type": "markdown",
   "metadata": {},
   "source": [
    "<a id=\"installing-numpy\"></a>\n",
    "### Installing Numpy\n",
    "\n",
    "Numpy is already included in the following stacks:\n",
    "* [Anaconda](https://www.anaconda.com/)\n",
    "* [SciPy](https://www.scipy.org/about.html)\n",
    "\n",
    "Numpy can also be installed with pip:\n",
    "\n",
    "```\n",
    "python3 -m pip install numpy\n",
    "```"
   ]
  },
  {
   "cell_type": "markdown",
   "metadata": {},
   "source": [
    "<a id=\"getting-started\"></a>\n",
    "### Getting Started\n",
    "\n",
    "By convention, when imported numpy is typically aliased as np."
   ]
  },
  {
   "cell_type": "code",
   "execution_count": 1,
   "metadata": {},
   "outputs": [],
   "source": [
    "import numpy as np"
   ]
  },
  {
   "cell_type": "markdown",
   "metadata": {},
   "source": [
    "<a id=\"ndarray\"></a>\n",
    "### ndarray\n",
    "\n",
    "An [ndarray](https://numpy.org/devdocs/reference/arrays.ndarray.html#) is a multidimensional homogeneous array with a predetermined number of items.\n",
    "\n",
    "* homogeneous meaning that all items are of the same [dtype](https://numpy.org/doc/1.17/reference/arrays.dtypes.html?highlight=dtype) and size.\n",
    "* the data type is specified by another NumPy object called dtype (data-type).\n",
    "* each ndarray is associated with only one data-type."
   ]
  },
  {
   "cell_type": "markdown",
   "metadata": {},
   "source": [
    "<a id=\"single-dimentional-arrays-with-python-list\"></a>\n",
    "### Creating single dimentional arrays with a python list\n",
    "\n",
    "Arrays can be constructed using [creational routines](https://numpy.org/devdocs/reference/generated/numpy.array.html#numpy.array)"
   ]
  },
  {
   "cell_type": "markdown",
   "metadata": {},
   "source": [
    "[data source](https://www.metacritic.com/movie/serenity/critic-reviews) for scores."
   ]
  },
  {
   "cell_type": "code",
   "execution_count": 3,
   "metadata": {},
   "outputs": [],
   "source": [
    "serenity_movie_critic_scores = [\n",
    "    100, 91, 90, 90, 88, 88, 80, 80, 80, 80, \n",
    "     80, 80, 78, 75, 75, 75, 75, 75, 75, 75, \n",
    "     75, 75, 75, 75, 70, 70, 70, 70, 70, 70,\n",
    "     63, 50, 50, 50\n",
    "]"
   ]
  },
  {
   "cell_type": "markdown",
   "metadata": {},
   "source": [
    "[numpy.array](https://numpy.org/devdocs/reference/generated/numpy.array.html#numpy.array)"
   ]
  },
  {
   "cell_type": "code",
   "execution_count": 4,
   "metadata": {},
   "outputs": [],
   "source": [
    "x = np.array(serenity_movie_critic_scores, np.int32)"
   ]
  },
  {
   "cell_type": "code",
   "execution_count": 5,
   "metadata": {},
   "outputs": [
    {
     "data": {
      "text/plain": [
       "array([100,  91,  90,  90,  88,  88,  80,  80,  80,  80,  80,  80,  78,\n",
       "        75,  75,  75,  75,  75,  75,  75,  75,  75,  75,  75,  70,  70,\n",
       "        70,  70,  70,  70,  63,  50,  50,  50], dtype=int32)"
      ]
     },
     "execution_count": 5,
     "metadata": {},
     "output_type": "execute_result"
    }
   ],
   "source": [
    "x"
   ]
  },
  {
   "cell_type": "code",
   "execution_count": 6,
   "metadata": {},
   "outputs": [
    {
     "data": {
      "text/plain": [
       "numpy.ndarray"
      ]
     },
     "execution_count": 6,
     "metadata": {},
     "output_type": "execute_result"
    }
   ],
   "source": [
    "type(x)"
   ]
  },
  {
   "cell_type": "markdown",
   "metadata": {},
   "source": [
    "<a id=\"array-attributes\"></a>\n",
    "### Array Attributes\n",
    "\n",
    "[Array attributes](https://numpy.org/doc/1.17/reference/arrays.ndarray.html#array-attributes) reflect information that is intrinsic to the array itself. "
   ]
  },
  {
   "cell_type": "code",
   "execution_count": 7,
   "metadata": {},
   "outputs": [
    {
     "data": {
      "text/plain": [
       "dtype('int32')"
      ]
     },
     "execution_count": 7,
     "metadata": {},
     "output_type": "execute_result"
    }
   ],
   "source": [
    "# Data-type of the array’s elements.\n",
    "x.dtype"
   ]
  },
  {
   "cell_type": "code",
   "execution_count": 8,
   "metadata": {},
   "outputs": [
    {
     "data": {
      "text/plain": [
       "1"
      ]
     },
     "execution_count": 8,
     "metadata": {},
     "output_type": "execute_result"
    }
   ],
   "source": [
    "# Number of array dimensions.\n",
    "x.ndim"
   ]
  },
  {
   "cell_type": "code",
   "execution_count": 9,
   "metadata": {},
   "outputs": [
    {
     "data": {
      "text/plain": [
       "34"
      ]
     },
     "execution_count": 9,
     "metadata": {},
     "output_type": "execute_result"
    }
   ],
   "source": [
    "# Number of elements in the array.\n",
    "x.size"
   ]
  },
  {
   "cell_type": "code",
   "execution_count": 10,
   "metadata": {},
   "outputs": [
    {
     "data": {
      "text/plain": [
       "(34,)"
      ]
     },
     "execution_count": 10,
     "metadata": {},
     "output_type": "execute_result"
    }
   ],
   "source": [
    "# Tuple of array dimensions.\n",
    "x.shape"
   ]
  },
  {
   "cell_type": "code",
   "execution_count": 11,
   "metadata": {},
   "outputs": [
    {
     "data": {
      "text/plain": [
       "4"
      ]
     },
     "execution_count": 11,
     "metadata": {},
     "output_type": "execute_result"
    }
   ],
   "source": [
    "# Length of one array element in bytes.\n",
    "x.itemsize"
   ]
  },
  {
   "cell_type": "code",
   "execution_count": 12,
   "metadata": {},
   "outputs": [
    {
     "data": {
      "text/plain": [
       "136"
      ]
     },
     "execution_count": 12,
     "metadata": {},
     "output_type": "execute_result"
    }
   ],
   "source": [
    "# Total bytes consumed by the elements of the array.\n",
    "# Same as x.size * x.itemsize\n",
    "x.nbytes"
   ]
  },
  {
   "cell_type": "markdown",
   "metadata": {},
   "source": [
    "**Knowledge check**  \n",
    "When we created the array, we specified that each item should have a datatype of np.int32.  \n",
    "How would the value of the itemsize attribute change if we changed the datatype to np.int64?  \n",
    "Try it out!"
   ]
  },
  {
   "cell_type": "markdown",
   "metadata": {},
   "source": [
    "<a id=\"multi-dimentional-arrays-with-python-sequences\"></a>\n",
    "### Creating Multi Dimentional Arrays With Python Sequences\n",
    "\n",
    "Matrix resources:\n",
    "* [Khan Academy - Introduction to matrices](https://www.khanacademy.org/math/precalculus/x9e81a4f98389efdf:matrices/x9e81a4f98389efdf:mat-intro/v/introduction-to-the-matrix)\n",
    "* [Wikipedia - Matrix](https://en.wikipedia.org/wiki/Matrix_(mathematics))"
   ]
  },
  {
   "cell_type": "markdown",
   "metadata": {},
   "source": [
    "Let's create a 2D array containing the quaterly US sales for Harley Davidson Motorcycles.  \n",
    "\n",
    "|  Year  | Q1      | Q2      | Q3      | Q4     |\n",
    "| ------ | ------- | ------- | ------- | ------ |\n",
    "| 2018   | 29,309  | 46,490  | 36,220  | 20,849 |\n",
    "| 2019   | 28,091  | 42,762  | 34,903  | 20,204 |\n",
    "\n",
    "data source:\n",
    "* [2019 Q1](https://investor.harley-davidson.com/static-files/34d087e4-95d5-45ff-9098-fe8c09bee292)\n",
    "* [2019 Q2](https://investor.harley-davidson.com/static-files/2a5df0f5-6ea5-4860-803e-bc31828e0526)\n",
    "* [2019 Q3](https://investor.harley-davidson.com/static-files/51bb4f70-77c6-4526-9c87-046c3a7c0f5e)\n",
    "* [2019 Q4](https://investor.harley-davidson.com/news-releases/news-release-details/harley-davidson-announces-fourth-quarter-full-year-2019-results)\n"
   ]
  },
  {
   "cell_type": "code",
   "execution_count": 13,
   "metadata": {},
   "outputs": [],
   "source": [
    "# We could have also elected for a list of lists or a tuple of tuples.\n",
    "hd_us_sales = [(29309, 46490, 36220, 20849), (28091, 42762, 34903, 20204)]"
   ]
  },
  {
   "cell_type": "code",
   "execution_count": 14,
   "metadata": {},
   "outputs": [
    {
     "data": {
      "text/plain": [
       "[(29309, 46490, 36220, 20849), (28091, 42762, 34903, 20204)]"
      ]
     },
     "execution_count": 14,
     "metadata": {},
     "output_type": "execute_result"
    }
   ],
   "source": [
    "hd_us_sales"
   ]
  },
  {
   "cell_type": "code",
   "execution_count": 15,
   "metadata": {},
   "outputs": [],
   "source": [
    "# Notice here that we are not providing dtype to the function. \n",
    "# Numpy will automatically determine as the minimum type required to hold the objects in the sequence.\n",
    "X =  np.array(hd_us_sales)"
   ]
  },
  {
   "cell_type": "code",
   "execution_count": 16,
   "metadata": {},
   "outputs": [
    {
     "data": {
      "text/plain": [
       "array([[29309, 46490, 36220, 20849],\n",
       "       [28091, 42762, 34903, 20204]])"
      ]
     },
     "execution_count": 16,
     "metadata": {},
     "output_type": "execute_result"
    }
   ],
   "source": [
    "X"
   ]
  },
  {
   "cell_type": "code",
   "execution_count": 17,
   "metadata": {},
   "outputs": [
    {
     "data": {
      "text/plain": [
       "numpy.ndarray"
      ]
     },
     "execution_count": 17,
     "metadata": {},
     "output_type": "execute_result"
    }
   ],
   "source": [
    "type(X)"
   ]
  },
  {
   "cell_type": "markdown",
   "metadata": {},
   "source": [
    "Once again, let's have a look at the attributes associated with this ndarray."
   ]
  },
  {
   "cell_type": "code",
   "execution_count": 18,
   "metadata": {},
   "outputs": [
    {
     "data": {
      "text/plain": [
       "dtype('int64')"
      ]
     },
     "execution_count": 18,
     "metadata": {},
     "output_type": "execute_result"
    }
   ],
   "source": [
    "X.dtype"
   ]
  },
  {
   "cell_type": "code",
   "execution_count": 19,
   "metadata": {},
   "outputs": [
    {
     "data": {
      "text/plain": [
       "2"
      ]
     },
     "execution_count": 19,
     "metadata": {},
     "output_type": "execute_result"
    }
   ],
   "source": [
    "X.ndim"
   ]
  },
  {
   "cell_type": "code",
   "execution_count": 20,
   "metadata": {},
   "outputs": [
    {
     "data": {
      "text/plain": [
       "8"
      ]
     },
     "execution_count": 20,
     "metadata": {},
     "output_type": "execute_result"
    }
   ],
   "source": [
    "X.size"
   ]
  },
  {
   "cell_type": "code",
   "execution_count": 21,
   "metadata": {},
   "outputs": [
    {
     "data": {
      "text/plain": [
       "(2, 4)"
      ]
     },
     "execution_count": 21,
     "metadata": {},
     "output_type": "execute_result"
    }
   ],
   "source": [
    "X.shape"
   ]
  },
  {
   "cell_type": "markdown",
   "metadata": {},
   "source": [
    "X has rank 2 since it has two axes. Each axe has 4 elements."
   ]
  },
  {
   "cell_type": "code",
   "execution_count": 22,
   "metadata": {},
   "outputs": [
    {
     "data": {
      "text/plain": [
       "np.int64(2)"
      ]
     },
     "execution_count": 22,
     "metadata": {},
     "output_type": "execute_result"
    }
   ],
   "source": [
    "np.linalg.matrix_rank(X)"
   ]
  },
  {
   "cell_type": "markdown",
   "metadata": {},
   "source": [
    "<a id=\"more-creational-routines\"></a>\n",
    "### More Creational Routines"
   ]
  },
  {
   "cell_type": "markdown",
   "metadata": {},
   "source": [
    "There are times when we want to create arrays initilized with default values."
   ]
  },
  {
   "cell_type": "markdown",
   "metadata": {},
   "source": [
    "#### Zeros\n",
    "Let's create an array of a given shape and size filled with zeros.  \n",
    "The [zeros creation routine](https://numpy.org/devdocs/reference/generated/numpy.zeros.html#numpy.zeros) expects a shape. It also allows for two additional parameters.\n",
    "\n",
    "numpy.zeros(shape, dtype=float, order='C')"
   ]
  },
  {
   "cell_type": "code",
   "execution_count": 23,
   "metadata": {},
   "outputs": [],
   "source": [
    "x = np.zeros((2, 3), dtype=int)"
   ]
  },
  {
   "cell_type": "code",
   "execution_count": 24,
   "metadata": {},
   "outputs": [
    {
     "data": {
      "text/plain": [
       "array([[0, 0, 0],\n",
       "       [0, 0, 0]])"
      ]
     },
     "execution_count": 24,
     "metadata": {},
     "output_type": "execute_result"
    }
   ],
   "source": [
    "x"
   ]
  },
  {
   "cell_type": "markdown",
   "metadata": {},
   "source": [
    "#### Ones\n",
    "\n",
    "Similarly, the [ones creational routine](https://numpy.org/devdocs/reference/generated/numpy.ones.html#numpy.ones) will generate an array where every element's value is one."
   ]
  },
  {
   "cell_type": "code",
   "execution_count": 25,
   "metadata": {},
   "outputs": [],
   "source": [
    "x = np.ones((4, 4))"
   ]
  },
  {
   "cell_type": "code",
   "execution_count": 26,
   "metadata": {},
   "outputs": [
    {
     "data": {
      "text/plain": [
       "array([[1., 1., 1., 1.],\n",
       "       [1., 1., 1., 1.],\n",
       "       [1., 1., 1., 1.],\n",
       "       [1., 1., 1., 1.]])"
      ]
     },
     "execution_count": 26,
     "metadata": {},
     "output_type": "execute_result"
    }
   ],
   "source": [
    "x"
   ]
  },
  {
   "cell_type": "markdown",
   "metadata": {},
   "source": [
    "#### Range\n",
    "\n",
    "The [arange creational routine](https://numpy.org/devdocs/reference/generated/numpy.arange.html#numpy.arange) is useful when we need to create an array with evenly space values within a given interval.\n",
    "\n",
    "numpy.arange([start, ]stop, [step, ]dtype=None)"
   ]
  },
  {
   "cell_type": "code",
   "execution_count": 27,
   "metadata": {},
   "outputs": [],
   "source": [
    "x = np.arange(10)\n",
    "y = np.arange(20, 32)\n",
    "z = np.arange(40, 50, 2)"
   ]
  },
  {
   "cell_type": "code",
   "execution_count": 28,
   "metadata": {},
   "outputs": [
    {
     "data": {
      "text/plain": [
       "array([0, 1, 2, 3, 4, 5, 6, 7, 8, 9])"
      ]
     },
     "execution_count": 28,
     "metadata": {},
     "output_type": "execute_result"
    }
   ],
   "source": [
    "x"
   ]
  },
  {
   "cell_type": "code",
   "execution_count": 29,
   "metadata": {},
   "outputs": [
    {
     "data": {
      "text/plain": [
       "array([20, 21, 22, 23, 24, 25, 26, 27, 28, 29, 30, 31])"
      ]
     },
     "execution_count": 29,
     "metadata": {},
     "output_type": "execute_result"
    }
   ],
   "source": [
    "y"
   ]
  },
  {
   "cell_type": "code",
   "execution_count": 30,
   "metadata": {},
   "outputs": [
    {
     "data": {
      "text/plain": [
       "array([40, 42, 44, 46, 48])"
      ]
     },
     "execution_count": 30,
     "metadata": {},
     "output_type": "execute_result"
    }
   ],
   "source": [
    "z"
   ]
  },
  {
   "cell_type": "markdown",
   "metadata": {},
   "source": [
    "<a id=\"array-manipulation-routines\"></a>\n",
    "### Array manipulation routines"
   ]
  },
  {
   "cell_type": "markdown",
   "metadata": {},
   "source": [
    "NumPy provides many [array manipulation routines](https://numpy.org/devdocs/reference/routines.array-manipulation.html#array-manipulation-routines). Let's explore some that allow us to change the shape of arrays. \n",
    "Keep in mind that often these functions return new objects rather than mutating the existing object."
   ]
  },
  {
   "cell_type": "markdown",
   "metadata": {},
   "source": [
    "#### reshape\n",
    "\n",
    "The [reshape function](https://numpy.org/devdocs/reference/generated/numpy.reshape.html#numpy.reshape) gives a new shape to an array without changing its data."
   ]
  },
  {
   "cell_type": "code",
   "execution_count": 31,
   "metadata": {},
   "outputs": [
    {
     "data": {
      "text/plain": [
       "array([[0, 1, 2, 3, 4],\n",
       "       [5, 6, 7, 8, 9]])"
      ]
     },
     "execution_count": 31,
     "metadata": {},
     "output_type": "execute_result"
    }
   ],
   "source": [
    "np.reshape(x, (2, 5))"
   ]
  },
  {
   "cell_type": "code",
   "execution_count": 32,
   "metadata": {},
   "outputs": [
    {
     "data": {
      "text/plain": [
       "array([0, 1, 2, 3, 4, 5, 6, 7, 8, 9])"
      ]
     },
     "execution_count": 32,
     "metadata": {},
     "output_type": "execute_result"
    }
   ],
   "source": [
    "x"
   ]
  },
  {
   "cell_type": "markdown",
   "metadata": {},
   "source": [
    "**Knowledge check**  \n",
    "x remains unchanged. Why? \n",
    "How can we fix it?  \n",
    "Was this behavior expected? Where is this documented?"
   ]
  },
  {
   "cell_type": "code",
   "execution_count": 33,
   "metadata": {},
   "outputs": [
    {
     "data": {
      "text/plain": [
       "array([[20, 21, 22, 23],\n",
       "       [24, 25, 26, 27],\n",
       "       [28, 29, 30, 31]])"
      ]
     },
     "execution_count": 33,
     "metadata": {},
     "output_type": "execute_result"
    }
   ],
   "source": [
    "y.reshape((3, 4))"
   ]
  },
  {
   "cell_type": "markdown",
   "metadata": {},
   "source": [
    "**Note**  \n",
    "We could also have chained the invocations to these functions in a single line."
   ]
  },
  {
   "cell_type": "code",
   "execution_count": 34,
   "metadata": {},
   "outputs": [
    {
     "data": {
      "text/plain": [
       "array([[20, 21, 22, 23],\n",
       "       [24, 25, 26, 27],\n",
       "       [28, 29, 30, 31]])"
      ]
     },
     "execution_count": 34,
     "metadata": {},
     "output_type": "execute_result"
    }
   ],
   "source": [
    "y = np.arange(20, 32).reshape((3, 4))\n",
    "y"
   ]
  },
  {
   "cell_type": "markdown",
   "metadata": {},
   "source": [
    "#### ravel\n",
    "The [ravel function](https://numpy.org/devdocs/reference/generated/numpy.ravel.html#numpy.ravel) returns a contiguous flattened array."
   ]
  },
  {
   "cell_type": "code",
   "execution_count": 35,
   "metadata": {},
   "outputs": [],
   "source": [
    "y = np.ravel(y)"
   ]
  },
  {
   "cell_type": "code",
   "execution_count": 36,
   "metadata": {},
   "outputs": [
    {
     "data": {
      "text/plain": [
       "array([20, 21, 22, 23, 24, 25, 26, 27, 28, 29, 30, 31])"
      ]
     },
     "execution_count": 36,
     "metadata": {},
     "output_type": "execute_result"
    }
   ],
   "source": [
    "y"
   ]
  },
  {
   "cell_type": "markdown",
   "metadata": {},
   "source": [
    "<a id=\"structured-arrays\"></a>\n",
    "### Structured Arrays"
   ]
  },
  {
   "cell_type": "markdown",
   "metadata": {},
   "source": [
    "Jen Barber, the Relationship Manager of the IT Department, would like to utilize Numpy for the organization's infrastructure data. But she has the need to be able to manipulate this data by field rather than by row. \n",
    "\n",
    "She has provided you with a snippet of the data structure for disaster recovery assets. \n",
    "\n",
    "| Site | UPS Count | Generator Count |\n",
    "| ---- | --------- | --------------- |\n",
    "| US   | 4         | 2               |\n",
    "| UK   | 2         | 1               |\n",
    "| IN   | 3         | 2               |\n",
    "\n",
    "\n",
    "Using this information, let's create a [structured array](https://docs.scipy.org/doc/numpy-1.10.1/user/basics.rec.html) to prove to her that her requirements can be met."
   ]
  },
  {
   "cell_type": "code",
   "execution_count": 37,
   "metadata": {},
   "outputs": [],
   "source": [
    "infrastructure = np.array( [(4, 2), (2, 1), (3, 2)], dtype=[('ups_count', 'i4'), ('gen_count', 'i4')])"
   ]
  },
  {
   "cell_type": "code",
   "execution_count": 38,
   "metadata": {},
   "outputs": [
    {
     "data": {
      "text/plain": [
       "array([(4, 2), (2, 1), (3, 2)],\n",
       "      dtype=[('ups_count', '<i4'), ('gen_count', '<i4')])"
      ]
     },
     "execution_count": 38,
     "metadata": {},
     "output_type": "execute_result"
    }
   ],
   "source": [
    "infrastructure"
   ]
  },
  {
   "cell_type": "code",
   "execution_count": 39,
   "metadata": {},
   "outputs": [
    {
     "data": {
      "text/plain": [
       "array([4, 2, 3], dtype=int32)"
      ]
     },
     "execution_count": 39,
     "metadata": {},
     "output_type": "execute_result"
    }
   ],
   "source": [
    "infrastructure['ups_count']"
   ]
  },
  {
   "cell_type": "code",
   "execution_count": 40,
   "metadata": {},
   "outputs": [
    {
     "data": {
      "text/plain": [
       "array([2, 1, 2], dtype=int32)"
      ]
     },
     "execution_count": 40,
     "metadata": {},
     "output_type": "execute_result"
    }
   ],
   "source": [
    "infrastructure['gen_count']"
   ]
  },
  {
   "cell_type": "markdown",
   "metadata": {},
   "source": [
    "<a id=\"basic-operations\"></a>\n",
    "### Basic operations"
   ]
  },
  {
   "cell_type": "markdown",
   "metadata": {},
   "source": [
    "#### Scalar Addition\n",
    "\n",
    "Jen is satisfied with the structured array. She has revealed to you that Reynholm Industries needs to improve on its site reliability uptime. In order to do so, they intend to add two additional uninterruptible power supply units as well as a generator to each site.  \n",
    "\n",
    "Perform the necessary operations to update the infrastructure object according to these requirements. "
   ]
  },
  {
   "cell_type": "code",
   "execution_count": 41,
   "metadata": {},
   "outputs": [],
   "source": [
    "infrastructure['ups_count'] += 2"
   ]
  },
  {
   "cell_type": "code",
   "execution_count": 42,
   "metadata": {},
   "outputs": [
    {
     "data": {
      "text/plain": [
       "array([(6, 2), (4, 1), (5, 2)],\n",
       "      dtype=[('ups_count', '<i4'), ('gen_count', '<i4')])"
      ]
     },
     "execution_count": 42,
     "metadata": {},
     "output_type": "execute_result"
    }
   ],
   "source": [
    "infrastructure"
   ]
  },
  {
   "cell_type": "code",
   "execution_count": 43,
   "metadata": {},
   "outputs": [],
   "source": [
    "infrastructure['gen_count'] += 1"
   ]
  },
  {
   "cell_type": "code",
   "execution_count": 44,
   "metadata": {},
   "outputs": [
    {
     "data": {
      "text/plain": [
       "array([(6, 3), (4, 2), (5, 3)],\n",
       "      dtype=[('ups_count', '<i4'), ('gen_count', '<i4')])"
      ]
     },
     "execution_count": 44,
     "metadata": {},
     "output_type": "execute_result"
    }
   ],
   "source": [
    "infrastructure"
   ]
  },
  {
   "cell_type": "markdown",
   "metadata": {},
   "source": [
    "#### Scalar Multiplication\n",
    "\n",
    "Recent site reliabilty improvements at Reynholm Industries have not gone unnoticed. The company is now growing faster than ever. Denholm Reynholm has informed the IT department that they are expecting a 20% growth in the usage of cloud hosted services. Jen Barber has once again solicited your help in estimating the total increased operational cost. For simplicity sake, you decide to estimate a 20% increase in costs. Given the current costs below, how can you use numpy to arrive at an estimate?\n",
    "\n",
    "\n",
    "| Provider | Cloud Compute | Cloud Storage | \n",
    "| -------- | ------------- | ------------- |\n",
    "| AWS      | 2,500         | 3,200         |\n",
    "| GCP      | 4,000         | 250           |\n",
    "| Azure    | 1,000         | 750           |\n",
    "\n",
    "\n",
    "Let's convert this table into an ndarray."
   ]
  },
  {
   "cell_type": "code",
   "execution_count": 45,
   "metadata": {},
   "outputs": [],
   "source": [
    "cloud_cost = np.array( [(2500, 3200), (4000, 250), (1000, 750)] )"
   ]
  },
  {
   "cell_type": "code",
   "execution_count": 46,
   "metadata": {},
   "outputs": [
    {
     "data": {
      "text/plain": [
       "array([[2500, 3200],\n",
       "       [4000,  250],\n",
       "       [1000,  750]])"
      ]
     },
     "execution_count": 46,
     "metadata": {},
     "output_type": "execute_result"
    }
   ],
   "source": [
    "cloud_cost"
   ]
  },
  {
   "cell_type": "markdown",
   "metadata": {},
   "source": [
    "We can now use scalar multiplication to acquire the estimated increased cost for each element."
   ]
  },
  {
   "cell_type": "code",
   "execution_count": 47,
   "metadata": {},
   "outputs": [
    {
     "data": {
      "text/plain": [
       "array([[500., 640.],\n",
       "       [800.,  50.],\n",
       "       [200., 150.]])"
      ]
     },
     "execution_count": 47,
     "metadata": {},
     "output_type": "execute_result"
    }
   ],
   "source": [
    "cloud_cost * .20 # element-wise operation"
   ]
  },
  {
   "cell_type": "markdown",
   "metadata": {},
   "source": [
    "We can chain this function call with the sum aggregate function to arrivate at our final result. We will cover more about aggregate functions in a later section."
   ]
  },
  {
   "cell_type": "code",
   "execution_count": 48,
   "metadata": {},
   "outputs": [
    {
     "data": {
      "text/plain": [
       "np.float64(2340.0)"
      ]
     },
     "execution_count": 48,
     "metadata": {},
     "output_type": "execute_result"
    }
   ],
   "source": [
    "(cloud_cost * .20).sum()"
   ]
  },
  {
   "cell_type": "markdown",
   "metadata": {},
   "source": [
    "#### Element-wise addition\n",
    "\n",
    "Denholm, the director of Reynholm Industries, is an avid believer in working as a team. As such, he's requested a single ndarray containing a sum total of each measurement for all of his teams.\n",
    "\n",
    "\n",
    "**Blue Team**\n",
    "\n",
    "| Month   | Commit Count | Issues Resolved | New Features |\n",
    "| ------- | ------------ | --------------- | ------------ |\n",
    "| Jan     | 100          | 3               | 1            |\n",
    "| Feb     | 250          | 2               | 2            |    \n",
    "| Mar     | 235          | 3               | 2            |\n",
    "\n",
    "\n",
    "**Red Team**\n",
    "\n",
    "| Month   | Commit Count | Issues Resolved | New Features |\n",
    "| ------- | ------------ | --------------- | ------------ |\n",
    "| Jan     | 75           | 1               | 0            |\n",
    "| Feb     | 137          | 1               | 1            |\n",
    "| Mar     | 200          | 2               | 2            | \n",
    "\n",
    "\n",
    "Let's start by putting the data from these tables into ndarray objects."
   ]
  },
  {
   "cell_type": "code",
   "execution_count": 49,
   "metadata": {},
   "outputs": [],
   "source": [
    "blue_team = np.array([ (100, 3, 1), (250, 2, 2), (235, 3, 2) ])"
   ]
  },
  {
   "cell_type": "code",
   "execution_count": 50,
   "metadata": {},
   "outputs": [
    {
     "data": {
      "text/plain": [
       "array([[100,   3,   1],\n",
       "       [250,   2,   2],\n",
       "       [235,   3,   2]])"
      ]
     },
     "execution_count": 50,
     "metadata": {},
     "output_type": "execute_result"
    }
   ],
   "source": [
    "blue_team"
   ]
  },
  {
   "cell_type": "code",
   "execution_count": 51,
   "metadata": {},
   "outputs": [],
   "source": [
    "red_team = np.array([ (75, 1, 0), (137, 1, 1), (200, 2, 2) ])"
   ]
  },
  {
   "cell_type": "code",
   "execution_count": 52,
   "metadata": {},
   "outputs": [
    {
     "data": {
      "text/plain": [
       "array([[ 75,   1,   0],\n",
       "       [137,   1,   1],\n",
       "       [200,   2,   2]])"
      ]
     },
     "execution_count": 52,
     "metadata": {},
     "output_type": "execute_result"
    }
   ],
   "source": [
    "red_team"
   ]
  },
  {
   "cell_type": "code",
   "execution_count": 53,
   "metadata": {},
   "outputs": [
    {
     "data": {
      "text/plain": [
       "array([[175,   4,   1],\n",
       "       [387,   3,   3],\n",
       "       [435,   5,   4]])"
      ]
     },
     "execution_count": 53,
     "metadata": {},
     "output_type": "execute_result"
    }
   ],
   "source": [
    "blue_team + red_team"
   ]
  },
  {
   "cell_type": "markdown",
   "metadata": {},
   "source": [
    "#### Element-wise subtraction\n",
    "\n",
    "After some consideration, Denholm has decided that he would like to get a better picture of how each team performed against their initial target.\n",
    "\n",
    "**Q1 Target For Each Team**\n",
    "\n",
    "| Month   | Commit Count | Issues Resolved | New Features |\n",
    "| ------- | ------------ | --------------- | ------------ |\n",
    "| Jan     | 100          | 1               | 2            |\n",
    "| Feb     | 150          | 2               | 3            |\n",
    "| Mar     | 200          | 3               | 4            | "
   ]
  },
  {
   "cell_type": "code",
   "execution_count": 54,
   "metadata": {},
   "outputs": [],
   "source": [
    "q1_target = np.array([ (100, 1, 2), (150, 2, 3), (200, 3, 4) ])"
   ]
  },
  {
   "cell_type": "code",
   "execution_count": 55,
   "metadata": {},
   "outputs": [
    {
     "data": {
      "text/plain": [
       "array([[100,   1,   2],\n",
       "       [150,   2,   3],\n",
       "       [200,   3,   4]])"
      ]
     },
     "execution_count": 55,
     "metadata": {},
     "output_type": "execute_result"
    }
   ],
   "source": [
    "q1_target"
   ]
  },
  {
   "cell_type": "code",
   "execution_count": 56,
   "metadata": {},
   "outputs": [
    {
     "data": {
      "text/plain": [
       "array([[  0,   2,  -1],\n",
       "       [100,   0,  -1],\n",
       "       [ 35,   0,  -2]])"
      ]
     },
     "execution_count": 56,
     "metadata": {},
     "output_type": "execute_result"
    }
   ],
   "source": [
    "blue_team - q1_target"
   ]
  },
  {
   "cell_type": "code",
   "execution_count": 57,
   "metadata": {},
   "outputs": [
    {
     "data": {
      "text/plain": [
       "array([[-25,   0,  -2],\n",
       "       [-13,  -1,  -2],\n",
       "       [  0,  -1,  -2]])"
      ]
     },
     "execution_count": 57,
     "metadata": {},
     "output_type": "execute_result"
    }
   ],
   "source": [
    "red_team - q1_target"
   ]
  },
  {
   "cell_type": "markdown",
   "metadata": {},
   "source": [
    "**Thought expirement**  \n",
    "Let's pretend for a moment that the measurements taken here are:  \n",
    "\n",
    "a) actually meaningful towards the company's end goals of happier customers, higher profits, and an engaged staff.  \n",
    "b) directly associated to a healhty balance of quality and produtivity rather than the result of metric fixation.  \n",
    "\n",
    "Now that you have suspended disbelief for a moment, which team had the best performance?"
   ]
  },
  {
   "cell_type": "markdown",
   "metadata": {},
   "source": [
    "#### Element-wise Multiplication\n",
    "\n",
    "Matrix Multiplication Resources:  \n",
    "[Wikipedia - Matrix Multiplication](https://en.wikipedia.org/wiki/Matrix_multiplication)  \n",
    "[Khan Academy - Matrix vector products](https://www.khanacademy.org/math/linear-algebra/vectors-and-spaces/null-column-space/v/matrix-vector-products?modal=1)\n",
    "\n",
    "\n"
   ]
  },
  {
   "cell_type": "markdown",
   "metadata": {},
   "source": [
    "During a manager's meeting, word has spread that NumpPy is an incredibly useful tool. The marketing department is preparing for a major recruiting event and they would like to make sure they have enough swag to pass around to potential future employees.\n",
    "\n",
    "Using Matrix multiplication, we can help them evaluate what they currently have in stock.\n",
    "\n",
    "**Swag Inventory**\n",
    "\n",
    "| Product     | Pallets In Storage |\n",
    "| ----------- | ------------------ |\n",
    "| Coffee Mugs | 2                  | \n",
    "| Mouse Mats  | 3                  |\n",
    "| Posters     | 1                  |\n",
    "\n",
    "\n",
    "\n",
    "| Product     | Units Per Pallet |\n",
    "| ----------- | ---------------- |\n",
    "| Coffee Mugs | 8,000            |\n",
    "| Mouse Mats  | 20,000           |\n",
    "| Stickers    | 150,000          |\n",
    "\n"
   ]
  },
  {
   "cell_type": "code",
   "execution_count": 58,
   "metadata": {},
   "outputs": [],
   "source": [
    "A = np.array([ (2, 3, 1)])"
   ]
  },
  {
   "cell_type": "code",
   "execution_count": 59,
   "metadata": {},
   "outputs": [
    {
     "data": {
      "text/plain": [
       "array([[2, 3, 1]])"
      ]
     },
     "execution_count": 59,
     "metadata": {},
     "output_type": "execute_result"
    }
   ],
   "source": [
    "A"
   ]
  },
  {
   "cell_type": "code",
   "execution_count": 60,
   "metadata": {},
   "outputs": [],
   "source": [
    "B = np.array([ (8000, 20000, 150000) ])"
   ]
  },
  {
   "cell_type": "code",
   "execution_count": 61,
   "metadata": {},
   "outputs": [
    {
     "data": {
      "text/plain": [
       "array([[  8000,  20000, 150000]])"
      ]
     },
     "execution_count": 61,
     "metadata": {},
     "output_type": "execute_result"
    }
   ],
   "source": [
    "B"
   ]
  },
  {
   "cell_type": "code",
   "execution_count": 62,
   "metadata": {},
   "outputs": [],
   "source": [
    "C = A * B"
   ]
  },
  {
   "cell_type": "code",
   "execution_count": 63,
   "metadata": {},
   "outputs": [
    {
     "data": {
      "text/plain": [
       "array([[ 16000,  60000, 150000]])"
      ]
     },
     "execution_count": 63,
     "metadata": {},
     "output_type": "execute_result"
    }
   ],
   "source": [
    "C"
   ]
  },
  {
   "cell_type": "markdown",
   "metadata": {},
   "source": [
    "<a id=\"universal-functions\"></a>\n",
    "### Universal Functions\n",
    "\n",
    "A [universal functions](https://numpy.org/doc/1.17/reference/ufuncs.html) (or ufunc for short) is a function that operates on ndarrays in an element-by-element fashion."
   ]
  },
  {
   "cell_type": "markdown",
   "metadata": {},
   "source": [
    "\n",
    "**Required Units**\n",
    "\n",
    "| Product     | Units Per Pallet |\n",
    "| ----------- | ---------------- |\n",
    "| Coffee Mugs | 30,000           |\n",
    "| Mouse Mats  | 50,000           |\n",
    "| Stickers    | 150,000          |\n"
   ]
  },
  {
   "cell_type": "code",
   "execution_count": 64,
   "metadata": {},
   "outputs": [],
   "source": [
    "R = np.array([30000, 50000, 150000])"
   ]
  },
  {
   "cell_type": "code",
   "execution_count": 65,
   "metadata": {},
   "outputs": [
    {
     "data": {
      "text/plain": [
       "array([ 30000,  50000, 150000])"
      ]
     },
     "execution_count": 65,
     "metadata": {},
     "output_type": "execute_result"
    }
   ],
   "source": [
    "R"
   ]
  },
  {
   "cell_type": "code",
   "execution_count": 66,
   "metadata": {},
   "outputs": [
    {
     "data": {
      "text/plain": [
       "array([[False,  True,  True]])"
      ]
     },
     "execution_count": 66,
     "metadata": {},
     "output_type": "execute_result"
    }
   ],
   "source": [
    "np.greater_equal(C, R)"
   ]
  },
  {
   "cell_type": "markdown",
   "metadata": {},
   "source": [
    "<a id=\"aggregate-functions\"></a>\n",
    "### Aggregate Functions\n",
    "\n"
   ]
  },
  {
   "cell_type": "code",
   "execution_count": 67,
   "metadata": {},
   "outputs": [],
   "source": [
    "serenity_movie_critic_scores = [\n",
    "    100, 91, 90, 90, 88, 88, 80, 80, 80, 80, \n",
    "     80, 80, 78, 75, 75, 75, 75, 75, 75, 75, \n",
    "     75, 75, 75, 75, 70, 70, 70, 70, 70, 70,\n",
    "     63, 50, 50, 50\n",
    "]"
   ]
  },
  {
   "cell_type": "code",
   "execution_count": 68,
   "metadata": {},
   "outputs": [],
   "source": [
    "x = np.array(serenity_movie_critic_scores, np.int32)"
   ]
  },
  {
   "cell_type": "code",
   "execution_count": 69,
   "metadata": {},
   "outputs": [
    {
     "data": {
      "text/plain": [
       "array([100,  91,  90,  90,  88,  88,  80,  80,  80,  80,  80,  80,  78,\n",
       "        75,  75,  75,  75,  75,  75,  75,  75,  75,  75,  75,  70,  70,\n",
       "        70,  70,  70,  70,  63,  50,  50,  50], dtype=int32)"
      ]
     },
     "execution_count": 69,
     "metadata": {},
     "output_type": "execute_result"
    }
   ],
   "source": [
    "x"
   ]
  },
  {
   "cell_type": "markdown",
   "metadata": {},
   "source": [
    "#### sum\n",
    "\n",
    "[sum](https://numpy.org/doc/1.17/reference/generated/numpy.ndarray.sum.html#numpy.ndarray.sum) returns the sum of the array elements over the given axis.  \n",
    "Equivalent to [np.sum](https://numpy.org/doc/1.17/reference/generated/numpy.sum.html#numpy.sum)."
   ]
  },
  {
   "cell_type": "code",
   "execution_count": 70,
   "metadata": {},
   "outputs": [
    {
     "data": {
      "text/plain": [
       "np.int64(2563)"
      ]
     },
     "execution_count": 70,
     "metadata": {},
     "output_type": "execute_result"
    }
   ],
   "source": [
    "x.sum()"
   ]
  },
  {
   "cell_type": "code",
   "execution_count": 71,
   "metadata": {},
   "outputs": [
    {
     "data": {
      "text/plain": [
       "np.int64(2563)"
      ]
     },
     "execution_count": 71,
     "metadata": {},
     "output_type": "execute_result"
    }
   ],
   "source": [
    "np.sum(x)"
   ]
  },
  {
   "cell_type": "markdown",
   "metadata": {},
   "source": [
    "#### min\n",
    "\n",
    "[min](https://numpy.org/doc/1.17/reference/generated/numpy.ndarray.min.html#numpy.ndarray.min) return the minimum along a given axis.  \n",
    "Equivalent to [np.amin](https://numpy.org/doc/1.17/reference/generated/numpy.amin.html#numpy.amin)."
   ]
  },
  {
   "cell_type": "code",
   "execution_count": 72,
   "metadata": {},
   "outputs": [
    {
     "data": {
      "text/plain": [
       "np.int32(50)"
      ]
     },
     "execution_count": 72,
     "metadata": {},
     "output_type": "execute_result"
    }
   ],
   "source": [
    "x.min()"
   ]
  },
  {
   "cell_type": "code",
   "execution_count": 73,
   "metadata": {},
   "outputs": [
    {
     "data": {
      "text/plain": [
       "np.int32(50)"
      ]
     },
     "execution_count": 73,
     "metadata": {},
     "output_type": "execute_result"
    }
   ],
   "source": [
    "np.min(x)"
   ]
  },
  {
   "cell_type": "markdown",
   "metadata": {},
   "source": [
    "#### max\n",
    "\n",
    "[max](https://numpy.org/doc/1.17/reference/generated/numpy.ndarray.max.html#numpy.ndarray.max) return the maximum along a given axis.  \n",
    "Equivalent to [np.amax](https://numpy.org/doc/1.17/reference/generated/numpy.amax.html#numpy.amax)."
   ]
  },
  {
   "cell_type": "code",
   "execution_count": 74,
   "metadata": {},
   "outputs": [
    {
     "data": {
      "text/plain": [
       "np.int32(100)"
      ]
     },
     "execution_count": 74,
     "metadata": {},
     "output_type": "execute_result"
    }
   ],
   "source": [
    "x.max()"
   ]
  },
  {
   "cell_type": "code",
   "execution_count": 75,
   "metadata": {},
   "outputs": [
    {
     "data": {
      "text/plain": [
       "np.int32(100)"
      ]
     },
     "execution_count": 75,
     "metadata": {},
     "output_type": "execute_result"
    }
   ],
   "source": [
    "np.amax(x)"
   ]
  },
  {
   "cell_type": "markdown",
   "metadata": {},
   "source": [
    "#### mean\n",
    "\n",
    "[mean](https://numpy.org/doc/1.17/reference/generated/numpy.ndarray.mean.html#numpy.ndarray.mean) returns the average of the array elements along given axis.  \n",
    "Equivalent to [np.mean](https://numpy.org/doc/1.17/reference/generated/numpy.ndarray.mean.html#numpy.ndarray.mean)."
   ]
  },
  {
   "cell_type": "code",
   "execution_count": 76,
   "metadata": {},
   "outputs": [
    {
     "data": {
      "text/plain": [
       "np.float64(75.38235294117646)"
      ]
     },
     "execution_count": 76,
     "metadata": {},
     "output_type": "execute_result"
    }
   ],
   "source": [
    "x.mean()"
   ]
  },
  {
   "cell_type": "code",
   "execution_count": 77,
   "metadata": {},
   "outputs": [
    {
     "data": {
      "text/plain": [
       "np.float64(75.38235294117646)"
      ]
     },
     "execution_count": 77,
     "metadata": {},
     "output_type": "execute_result"
    }
   ],
   "source": [
    "np.mean(x)"
   ]
  },
  {
   "cell_type": "markdown",
   "metadata": {},
   "source": [
    "#### standard deviation\n",
    "\n",
    "[std](https://numpy.org/doc/1.17/reference/generated/numpy.ndarray.std.html#numpy.ndarray.std) returns the standard deviation of the array elements along given axis.  \n",
    "Equivalent to [np.std](https://numpy.org/doc/1.17/reference/generated/numpy.std.html#numpy.std)."
   ]
  },
  {
   "cell_type": "code",
   "execution_count": 78,
   "metadata": {},
   "outputs": [
    {
     "data": {
      "text/plain": [
       "np.float64(10.835710856136087)"
      ]
     },
     "execution_count": 78,
     "metadata": {},
     "output_type": "execute_result"
    }
   ],
   "source": [
    "x.std()"
   ]
  },
  {
   "cell_type": "code",
   "execution_count": 79,
   "metadata": {},
   "outputs": [
    {
     "data": {
      "text/plain": [
       "np.float64(10.835710856136087)"
      ]
     },
     "execution_count": 79,
     "metadata": {},
     "output_type": "execute_result"
    }
   ],
   "source": [
    "np.std(x)"
   ]
  },
  {
   "cell_type": "markdown",
   "metadata": {},
   "source": [
    "<a id=\"indexing\"></a>\n",
    "### Indexing\n",
    "\n",
    "Array [indexing](https://numpy.org/doc/1.17/user/basics.indexing.html) refers to any use of the square brackets ([]) to index array values.\n",
    "\n",
    "[data source](https://www.formula1.com/en/results.html/2018/drivers/KIMRAI01/kimi-raikkonen.html)"
   ]
  },
  {
   "cell_type": "code",
   "execution_count": 96,
   "metadata": {},
   "outputs": [],
   "source": [
    "# 1st place = 25 points\n",
    "# 2nd place = 18 points\n",
    "# 3rd place = 15 points\n",
    "# 4th place = 12 points\n",
    "# 5th place = 10 points\n",
    "# 6th place = 8 points\n",
    "# DNF       = 0 points\n",
    "\n",
    "kimi_raikkonen_2018_points = np.array([\n",
    "    (\"Australia\", \"25 Mar 2018\", 15), \n",
    "    (\"Bahrain\", \"08 Apr 2018\", 0), \n",
    "    (\"China\", \"15 Apr 2018\", 15), \n",
    "    (\"Azerbaijan\", \"29 Apr 2018\", 18), \n",
    "    (\"Spain\", \"13 May 2018\", 0),\n",
    "    (\"Monaco\", \"27 May 2018\", 12),\n",
    "    (\"Canada\", \"10 Jun 2018\", 8),\n",
    "    (\"France\", \"24 Jun 2018\", 15),\n",
    "    (\"Austria\", \"01 Jul 2018\", 18),\n",
    "    (\"Great Britain\", \"08 Jul 2018\", 15),\n",
    "    (\"Germany\", \"22 Jul 2018\", 15),\n",
    "    (\"Hungary\", \"29 Jul 2018\", 15),\n",
    "    (\"Belgium\", \"26 Aug 2018\", 0),\n",
    "    (\"Italy\", \"02 Sep 2018\", 18),\n",
    "    (\"Singapore\", \"16 Sep 2018\", 10),\n",
    "    (\"Russia\", \"30 Sep 2018\", 12),\n",
    "    (\"Japan\", \"07 Oct 2018\", 10),\n",
    "    (\"United States\", \"21 Oct 2018\", 25),\n",
    "    (\"Mexico\", \"28 Oct 2018\", 15),\n",
    "    (\"Brazil\", \"11 Nov 2018\", 15),\n",
    "    (\"Abu Dhabi\", \"25 Nov 2018\", 0),\n",
    "], dtype=[\n",
    "    (\"grand_prix\", np.str_, 16), (\"date\", np.str_, 16), (\"points\", np.int32)\n",
    "])\n"
   ]
  },
  {
   "cell_type": "markdown",
   "metadata": {},
   "source": [
    "What is the datatype for the ndarray?"
   ]
  },
  {
   "cell_type": "code",
   "execution_count": 97,
   "metadata": {},
   "outputs": [
    {
     "data": {
      "text/plain": [
       "dtype([('grand_prix', '<U16'), ('date', '<U16'), ('points', '<i4')])"
      ]
     },
     "execution_count": 97,
     "metadata": {},
     "output_type": "execute_result"
    }
   ],
   "source": [
    "kimi_raikkonen_2018_points.dtype"
   ]
  },
  {
   "cell_type": "markdown",
   "metadata": {},
   "source": [
    "What is the shape of the ndarray?"
   ]
  },
  {
   "cell_type": "code",
   "execution_count": 98,
   "metadata": {},
   "outputs": [
    {
     "data": {
      "text/plain": [
       "(21,)"
      ]
     },
     "execution_count": 98,
     "metadata": {},
     "output_type": "execute_result"
    }
   ],
   "source": [
    "kimi_raikkonen_2018_points.shape"
   ]
  },
  {
   "cell_type": "markdown",
   "metadata": {},
   "source": [
    "**Single element indexing** "
   ]
  },
  {
   "cell_type": "markdown",
   "metadata": {},
   "source": [
    "What is the first item in the ndarray?"
   ]
  },
  {
   "cell_type": "code",
   "execution_count": 99,
   "metadata": {},
   "outputs": [
    {
     "data": {
      "text/plain": [
       "np.void(('Australia', '25 Mar 2018', 15), dtype=[('grand_prix', '<U16'), ('date', '<U16'), ('points', '<i4')])"
      ]
     },
     "execution_count": 99,
     "metadata": {},
     "output_type": "execute_result"
    }
   ],
   "source": [
    "kimi_raikkonen_2018_points[0]"
   ]
  },
  {
   "cell_type": "markdown",
   "metadata": {},
   "source": [
    "How many points did Kimi earn for the first race? "
   ]
  },
  {
   "cell_type": "code",
   "execution_count": 100,
   "metadata": {},
   "outputs": [
    {
     "data": {
      "text/plain": [
       "np.int32(15)"
      ]
     },
     "execution_count": 100,
     "metadata": {},
     "output_type": "execute_result"
    }
   ],
   "source": [
    "kimi_raikkonen_2018_points[0][2]"
   ]
  },
  {
   "cell_type": "markdown",
   "metadata": {},
   "source": [
    "What is the second item in the ndarray?"
   ]
  },
  {
   "cell_type": "code",
   "execution_count": 101,
   "metadata": {},
   "outputs": [
    {
     "data": {
      "text/plain": [
       "np.void(('Bahrain', '08 Apr 2018', 0), dtype=[('grand_prix', '<U16'), ('date', '<U16'), ('points', '<i4')])"
      ]
     },
     "execution_count": 101,
     "metadata": {},
     "output_type": "execute_result"
    }
   ],
   "source": [
    "kimi_raikkonen_2018_points[1]"
   ]
  },
  {
   "cell_type": "markdown",
   "metadata": {},
   "source": [
    "What is the last item in the ndarray?"
   ]
  },
  {
   "cell_type": "code",
   "execution_count": 102,
   "metadata": {},
   "outputs": [
    {
     "data": {
      "text/plain": [
       "np.void(('Abu Dhabi', '25 Nov 2018', 0), dtype=[('grand_prix', '<U16'), ('date', '<U16'), ('points', '<i4')])"
      ]
     },
     "execution_count": 102,
     "metadata": {},
     "output_type": "execute_result"
    }
   ],
   "source": [
    "kimi_raikkonen_2018_points[-1]"
   ]
  },
  {
   "cell_type": "markdown",
   "metadata": {},
   "source": [
    "What is the second to last item in the ndarray?"
   ]
  },
  {
   "cell_type": "code",
   "execution_count": 103,
   "metadata": {},
   "outputs": [
    {
     "data": {
      "text/plain": [
       "np.void(('Brazil', '11 Nov 2018', 15), dtype=[('grand_prix', '<U16'), ('date', '<U16'), ('points', '<i4')])"
      ]
     },
     "execution_count": 103,
     "metadata": {},
     "output_type": "execute_result"
    }
   ],
   "source": [
    "kimi_raikkonen_2018_points[-2]"
   ]
  },
  {
   "cell_type": "markdown",
   "metadata": {},
   "source": [
    "**Slicing**"
   ]
  },
  {
   "cell_type": "markdown",
   "metadata": {},
   "source": [
    "Retrieve the second and third items from the ndarray."
   ]
  },
  {
   "cell_type": "code",
   "execution_count": 104,
   "metadata": {},
   "outputs": [
    {
     "data": {
      "text/plain": [
       "array([('Bahrain', '08 Apr 2018',  0), ('China', '15 Apr 2018', 15)],\n",
       "      dtype=[('grand_prix', '<U16'), ('date', '<U16'), ('points', '<i4')])"
      ]
     },
     "execution_count": 104,
     "metadata": {},
     "output_type": "execute_result"
    }
   ],
   "source": [
    "kimi_raikkonen_2018_points[1:3]"
   ]
  },
  {
   "cell_type": "markdown",
   "metadata": {},
   "source": [
    "Retrieve the first three items from the item using a negative index."
   ]
  },
  {
   "cell_type": "code",
   "execution_count": 105,
   "metadata": {},
   "outputs": [
    {
     "data": {
      "text/plain": [
       "array([('Australia', '25 Mar 2018', 15), ('Bahrain', '08 Apr 2018',  0),\n",
       "       ('China', '15 Apr 2018', 15)],\n",
       "      dtype=[('grand_prix', '<U16'), ('date', '<U16'), ('points', '<i4')])"
      ]
     },
     "execution_count": 105,
     "metadata": {},
     "output_type": "execute_result"
    }
   ],
   "source": [
    "kimi_raikkonen_2018_points[:-18]"
   ]
  },
  {
   "cell_type": "markdown",
   "metadata": {},
   "source": [
    "Retrieve the first, third, and fifth items from the ndarray using a step argument."
   ]
  },
  {
   "cell_type": "code",
   "execution_count": 106,
   "metadata": {},
   "outputs": [
    {
     "data": {
      "text/plain": [
       "array([('Australia', '25 Mar 2018', 15), ('China', '15 Apr 2018', 15),\n",
       "       ('Spain', '13 May 2018',  0)],\n",
       "      dtype=[('grand_prix', '<U16'), ('date', '<U16'), ('points', '<i4')])"
      ]
     },
     "execution_count": 106,
     "metadata": {},
     "output_type": "execute_result"
    }
   ],
   "source": [
    "kimi_raikkonen_2018_points[0:6:2]"
   ]
  },
  {
   "cell_type": "markdown",
   "metadata": {},
   "source": [
    "Retrieve the first and last items from the ndarray."
   ]
  },
  {
   "cell_type": "code",
   "execution_count": 107,
   "metadata": {},
   "outputs": [
    {
     "data": {
      "text/plain": [
       "array([('Australia', '25 Mar 2018', 15), ('Brazil', '11 Nov 2018', 15)],\n",
       "      dtype=[('grand_prix', '<U16'), ('date', '<U16'), ('points', '<i4')])"
      ]
     },
     "execution_count": 107,
     "metadata": {},
     "output_type": "execute_result"
    }
   ],
   "source": [
    "kimi_raikkonen_2018_points[np.array([0, -2])]"
   ]
  },
  {
   "cell_type": "markdown",
   "metadata": {},
   "source": [
    "<a id=\"iteration\"></a>\n",
    "### Iteration\n",
    "\n",
    "[Iteration](https://numpy.org/doc/1.17/reference/arrays.nditer.html) provides a way to visit all element of an array."
   ]
  },
  {
   "cell_type": "code",
   "execution_count": 108,
   "metadata": {},
   "outputs": [
    {
     "data": {
      "text/plain": [
       "numpy.nditer"
      ]
     },
     "execution_count": 108,
     "metadata": {},
     "output_type": "execute_result"
    }
   ],
   "source": [
    "type(np.nditer(kimi_raikkonen_2018_points))"
   ]
  },
  {
   "cell_type": "code",
   "execution_count": 109,
   "metadata": {},
   "outputs": [
    {
     "name": "stdout",
     "output_type": "stream",
     "text": [
      "----------------------------------------------\n",
      "| Grand Prix      | Date          | Points   |\n",
      "----------------------------------------------\n",
      "| Australia       | 25 Mar 2018   |       15 |\n",
      "| Bahrain         | 08 Apr 2018   |        0 |\n",
      "| China           | 15 Apr 2018   |       15 |\n",
      "| Azerbaijan      | 29 Apr 2018   |       18 |\n",
      "| Spain           | 13 May 2018   |        0 |\n",
      "| Monaco          | 27 May 2018   |       12 |\n",
      "| Canada          | 10 Jun 2018   |        8 |\n",
      "| France          | 24 Jun 2018   |       15 |\n",
      "| Austria         | 01 Jul 2018   |       18 |\n",
      "| Great Britain   | 08 Jul 2018   |       15 |\n",
      "| Germany         | 22 Jul 2018   |       15 |\n",
      "| Hungary         | 29 Jul 2018   |       15 |\n",
      "| Belgium         | 26 Aug 2018   |        0 |\n",
      "| Italy           | 02 Sep 2018   |       18 |\n",
      "| Singapore       | 16 Sep 2018   |       10 |\n",
      "| Russia          | 30 Sep 2018   |       12 |\n",
      "| Japan           | 07 Oct 2018   |       10 |\n",
      "| United States   | 21 Oct 2018   |       25 |\n",
      "| Mexico          | 28 Oct 2018   |       15 |\n",
      "| Brazil          | 11 Nov 2018   |       15 |\n",
      "| Abu Dhabi       | 25 Nov 2018   |        0 |\n",
      "----------------------------------------------\n"
     ]
    }
   ],
   "source": [
    "#  visit each element without concern for a particular ordering\n",
    "\n",
    "print(\"-\"*46)\n",
    "header = \"| {0:15s} | {1:13s} | {2:8} |\".format(\"Grand Prix\", \"Date\", \"Points\")\n",
    "print(header)\n",
    "print(\"-\"*46)\n",
    "\n",
    "for x in np.nditer(kimi_raikkonen_2018_points):\n",
    "    print(f\"| {x['grand_prix']:15s} | {x['date']:13s} | {x['points']:8} |\")\n",
    "\n",
    "print(\"-\"*46)"
   ]
  },
  {
   "cell_type": "markdown",
   "metadata": {},
   "source": [
    "Let's say we wanted the name of the grand prix to be changed so each character was an uppercase. The previous approach would not work because by default, the the nditer treats the input operand as a read-only object. \n",
    "\n",
    "Take a look at the documentation on [modifying array values](https://numpy.org/doc/1.17/reference/arrays.nditer.html#modifying-array-values) and see the example below."
   ]
  },
  {
   "cell_type": "code",
   "execution_count": 110,
   "metadata": {},
   "outputs": [],
   "source": [
    "with np.nditer(kimi_raikkonen_2018_points, op_flags=['readwrite']) as it:\n",
    "    for x in it:\n",
    "        x['grand_prix'] = str(x['grand_prix']).upper()"
   ]
  },
  {
   "cell_type": "code",
   "execution_count": 111,
   "metadata": {},
   "outputs": [
    {
     "data": {
      "text/plain": [
       "array([('AUSTRALIA', '25 Mar 2018', 15), ('BAHRAIN', '08 Apr 2018',  0),\n",
       "       ('CHINA', '15 Apr 2018', 15), ('AZERBAIJAN', '29 Apr 2018', 18),\n",
       "       ('SPAIN', '13 May 2018',  0), ('MONACO', '27 May 2018', 12),\n",
       "       ('CANADA', '10 Jun 2018',  8), ('FRANCE', '24 Jun 2018', 15),\n",
       "       ('AUSTRIA', '01 Jul 2018', 18),\n",
       "       ('GREAT BRITAIN', '08 Jul 2018', 15),\n",
       "       ('GERMANY', '22 Jul 2018', 15), ('HUNGARY', '29 Jul 2018', 15),\n",
       "       ('BELGIUM', '26 Aug 2018',  0), ('ITALY', '02 Sep 2018', 18),\n",
       "       ('SINGAPORE', '16 Sep 2018', 10), ('RUSSIA', '30 Sep 2018', 12),\n",
       "       ('JAPAN', '07 Oct 2018', 10), ('UNITED STATES', '21 Oct 2018', 25),\n",
       "       ('MEXICO', '28 Oct 2018', 15), ('BRAZIL', '11 Nov 2018', 15),\n",
       "       ('ABU DHABI', '25 Nov 2018',  0)],\n",
       "      dtype=[('grand_prix', '<U16'), ('date', '<U16'), ('points', '<i4')])"
      ]
     },
     "execution_count": 111,
     "metadata": {},
     "output_type": "execute_result"
    }
   ],
   "source": [
    "kimi_raikkonen_2018_points"
   ]
  },
  {
   "cell_type": "code",
   "execution_count": null,
   "metadata": {},
   "outputs": [],
   "source": []
  },
  {
   "cell_type": "markdown",
   "metadata": {},
   "source": [
    "![Capivara](../imgs/capivara.jpg)"
   ]
  }
 ],
 "metadata": {
  "kernelspec": {
   "display_name": "Python 3 (ipykernel)",
   "language": "python",
   "name": "python3"
  },
  "language_info": {
   "codemirror_mode": {
    "name": "ipython",
    "version": 3
   },
   "file_extension": ".py",
   "mimetype": "text/x-python",
   "name": "python",
   "nbconvert_exporter": "python",
   "pygments_lexer": "ipython3",
   "version": "3.12.5"
  }
 },
 "nbformat": 4,
 "nbformat_minor": 4
}
