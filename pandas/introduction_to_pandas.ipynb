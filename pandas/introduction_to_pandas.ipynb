{
 "cells": [
  {
   "cell_type": "markdown",
   "metadata": {},
   "source": [
    "# Introduction to Pandas"
   ]
  },
  {
   "cell_type": "markdown",
   "metadata": {},
   "source": [
    "### Outline\n",
    "* [What Is Pandas?](#what-is-pandas)\n",
    "* [Why Pandas?](#why-pandas)\n",
    "* [Installing Pandas](#installing-numpy)\n",
    "    * with a stack\n",
    "    * with pip\n",
    "* [Getting started](#getting-started)\n",
    "* [Data structures](#data-structures)\n",
    "    * Series\n",
    "    * DataFrame\n",
    "* [Series overview](#series-overview)\n",
    "    * Creating \n",
    "    * index\n",
    "    * values\n",
    "* [DataFrame overview](#dataframe-overview)\n",
    "    * Creating empty DataFrame\n",
    "    * Creating a DataFrame from a Python dict\n",
    "    * Adding columns\n",
    "    * Appending rows to the DataFrame\n",
    "* [DataFrame characteristics](#dataframe-characteristics)\n",
    "    * shape\n",
    "    * describe \n",
    "    * head\n",
    "    * tail\n",
    "* [DataFrame indexing](#dataframe-indexing)\n",
    "    * Using iloc to select single row\n",
    "    * Using iloc to select multiple rows (slicing)\n",
    "    * Using iloc to select multiple rows with steps (slicing with steps)\n",
    "    * Setting an index\n",
    "    * Using loc to select a single row\n",
    "* [Conditionals](#conditionals)\n",
    "* [Resources](#resources)"
   ]
  },
  {
   "cell_type": "markdown",
   "metadata": {},
   "source": [
    "<a id=\"what-is-pandas\"></a>\n",
    "### What Is Pandas?\n",
    "\n",
    "Pandas is data analysis and manipulation tool.\n",
    "\n",
    "[More information](https://pandas.pydata.org/about/index.html)"
   ]
  },
  {
   "cell_type": "markdown",
   "metadata": {},
   "source": [
    "<a id=\"why-pandas\"></a>\n",
    "### Why Pandas?\n",
    "\n",
    "* Fast\n",
    "* Powerful\n",
    "* Flexible\n",
    "* Easy to use\n",
    "* Open source\n",
    "* Built on top of the Python programming language."
   ]
  },
  {
   "cell_type": "markdown",
   "metadata": {},
   "source": [
    "<a id=\"installing-pandas\"></a>\n",
    "### Installing Pandas\n",
    "\n",
    "Pandas is already included in the following stacks:\n",
    "* [Anaconda](https://www.anaconda.com/)\n",
    "* [SciPy](https://www.scipy.org/about.html)\n",
    "\n",
    "Numpy can also be installed with pip:\n",
    "\n",
    "```\n",
    "python3 -m pip install pandas\n",
    "```"
   ]
  },
  {
   "cell_type": "markdown",
   "metadata": {},
   "source": [
    "<a id=\"getting-started\"></a>\n",
    "### Getting Started\n",
    "\n",
    "By convention, when imported pandas is typically aliased as pd."
   ]
  },
  {
   "cell_type": "code",
   "execution_count": 1,
   "metadata": {},
   "outputs": [],
   "source": [
    "import pandas as pd"
   ]
  },
  {
   "cell_type": "markdown",
   "metadata": {},
   "source": [
    "<a id=\"data-structures\"></a>\n",
    "### Data Structures\n",
    "\n",
    "**Series**\n",
    "Series are designed to accomodate a sequence of one-dimentional data.  \n",
    "\n",
    "**DataFrame**\n",
    "Dataframes are designed to contain cases with several dimensions."
   ]
  },
  {
   "cell_type": "markdown",
   "metadata": {},
   "source": [
    "<a id=\"series-overview\"></a>\n",
    "### Series Overview\n",
    "\n",
    "[Series](https://pandas.pydata.org/pandas-docs/stable/reference/series.html) is a one-dimensional labeled array capable of holding any data type (integers, strings, floating point numbers, Python objects, etc.)."
   ]
  },
  {
   "cell_type": "code",
   "execution_count": 2,
   "metadata": {},
   "outputs": [],
   "source": [
    "s = pd.Series([1, 2, 3, 4])"
   ]
  },
  {
   "cell_type": "code",
   "execution_count": 3,
   "metadata": {},
   "outputs": [
    {
     "data": {
      "text/plain": [
       "0    1\n",
       "1    2\n",
       "2    3\n",
       "3    4\n",
       "dtype: int64"
      ]
     },
     "execution_count": 3,
     "metadata": {},
     "output_type": "execute_result"
    }
   ],
   "source": [
    "s"
   ]
  },
  {
   "cell_type": "code",
   "execution_count": 4,
   "metadata": {},
   "outputs": [
    {
     "data": {
      "text/plain": [
       "RangeIndex(start=0, stop=4, step=1)"
      ]
     },
     "execution_count": 4,
     "metadata": {},
     "output_type": "execute_result"
    }
   ],
   "source": [
    "s.index"
   ]
  },
  {
   "cell_type": "code",
   "execution_count": 5,
   "metadata": {},
   "outputs": [
    {
     "data": {
      "text/plain": [
       "pandas.core.indexes.range.RangeIndex"
      ]
     },
     "execution_count": 5,
     "metadata": {},
     "output_type": "execute_result"
    }
   ],
   "source": [
    "type(s.index)"
   ]
  },
  {
   "cell_type": "code",
   "execution_count": 6,
   "metadata": {},
   "outputs": [
    {
     "data": {
      "text/plain": [
       "array([1, 2, 3, 4])"
      ]
     },
     "execution_count": 6,
     "metadata": {},
     "output_type": "execute_result"
    }
   ],
   "source": [
    "s.values"
   ]
  },
  {
   "cell_type": "code",
   "execution_count": 7,
   "metadata": {},
   "outputs": [
    {
     "data": {
      "text/plain": [
       "numpy.ndarray"
      ]
     },
     "execution_count": 7,
     "metadata": {},
     "output_type": "execute_result"
    }
   ],
   "source": [
    "# the values in a Series is simply a numpy ndarray\n",
    "type(s.values)"
   ]
  },
  {
   "cell_type": "markdown",
   "metadata": {},
   "source": [
    "<a id=\"dataframe-overview\"></a>\n",
    "### DataFrame Overview\n",
    "\n",
    "[DataFrame](https://pandas.pydata.org/pandas-docs/stable/reference/frame.html) is a 2-dimensional labeled data structure with columns of potentially different types."
   ]
  },
  {
   "cell_type": "markdown",
   "metadata": {},
   "source": [
    "**Creating an empty DataFrame**"
   ]
  },
  {
   "cell_type": "code",
   "execution_count": 32,
   "metadata": {},
   "outputs": [],
   "source": [
    "f1_2019_races = pd.DataFrame()"
   ]
  },
  {
   "cell_type": "code",
   "execution_count": 33,
   "metadata": {},
   "outputs": [
    {
     "data": {
      "text/html": [
       "<div>\n",
       "<style scoped>\n",
       "    .dataframe tbody tr th:only-of-type {\n",
       "        vertical-align: middle;\n",
       "    }\n",
       "\n",
       "    .dataframe tbody tr th {\n",
       "        vertical-align: top;\n",
       "    }\n",
       "\n",
       "    .dataframe thead th {\n",
       "        text-align: right;\n",
       "    }\n",
       "</style>\n",
       "<table border=\"1\" class=\"dataframe\">\n",
       "  <thead>\n",
       "    <tr style=\"text-align: right;\">\n",
       "      <th></th>\n",
       "    </tr>\n",
       "  </thead>\n",
       "  <tbody>\n",
       "  </tbody>\n",
       "</table>\n",
       "</div>"
      ],
      "text/plain": [
       "Empty DataFrame\n",
       "Columns: []\n",
       "Index: []"
      ]
     },
     "execution_count": 33,
     "metadata": {},
     "output_type": "execute_result"
    }
   ],
   "source": [
    "f1_2019_races"
   ]
  },
  {
   "cell_type": "markdown",
   "metadata": {},
   "source": [
    "**Creating a DataFrame from a Python dict**\n",
    "\n",
    "[data source](https://www.formula1.com/en/results.html/2019/races.html)"
   ]
  },
  {
   "cell_type": "code",
   "execution_count": 34,
   "metadata": {},
   "outputs": [],
   "source": [
    "races_dict = {\n",
    "    \"grand_prix\": [ \n",
    "        'Australia', 'Bahrain', 'China', \n",
    "        'Azerbaijan', 'Spain', 'Monaco', \n",
    "        'Canada', 'France', 'Austria', \n",
    "        'Great Britain', 'Germany', 'Hungary', \n",
    "        'Belgium', 'Italy', 'Singapore', \n",
    "        'Russia', 'Japan', 'Mexico', \n",
    "        'United States', 'Brazil',\n",
    "    ],\n",
    "    \"laps\": [\n",
    "        58, 57, 56,\n",
    "        51, 66, 78,\n",
    "        70, 53, 71, \n",
    "        52, 64, 70,\n",
    "        44, 53, 61,\n",
    "        53, 52, 71, \n",
    "        56, 71, \n",
    "    ]\n",
    "}"
   ]
  },
  {
   "cell_type": "code",
   "execution_count": 35,
   "metadata": {},
   "outputs": [],
   "source": [
    "f1_2019_races = pd.DataFrame(races_dict)"
   ]
  },
  {
   "cell_type": "code",
   "execution_count": 36,
   "metadata": {},
   "outputs": [
    {
     "data": {
      "text/html": [
       "<div>\n",
       "<style scoped>\n",
       "    .dataframe tbody tr th:only-of-type {\n",
       "        vertical-align: middle;\n",
       "    }\n",
       "\n",
       "    .dataframe tbody tr th {\n",
       "        vertical-align: top;\n",
       "    }\n",
       "\n",
       "    .dataframe thead th {\n",
       "        text-align: right;\n",
       "    }\n",
       "</style>\n",
       "<table border=\"1\" class=\"dataframe\">\n",
       "  <thead>\n",
       "    <tr style=\"text-align: right;\">\n",
       "      <th></th>\n",
       "      <th>grand_prix</th>\n",
       "      <th>laps</th>\n",
       "    </tr>\n",
       "  </thead>\n",
       "  <tbody>\n",
       "    <tr>\n",
       "      <th>0</th>\n",
       "      <td>Australia</td>\n",
       "      <td>58</td>\n",
       "    </tr>\n",
       "    <tr>\n",
       "      <th>1</th>\n",
       "      <td>Bahrain</td>\n",
       "      <td>57</td>\n",
       "    </tr>\n",
       "    <tr>\n",
       "      <th>2</th>\n",
       "      <td>China</td>\n",
       "      <td>56</td>\n",
       "    </tr>\n",
       "    <tr>\n",
       "      <th>3</th>\n",
       "      <td>Azerbaijan</td>\n",
       "      <td>51</td>\n",
       "    </tr>\n",
       "    <tr>\n",
       "      <th>4</th>\n",
       "      <td>Spain</td>\n",
       "      <td>66</td>\n",
       "    </tr>\n",
       "    <tr>\n",
       "      <th>5</th>\n",
       "      <td>Monaco</td>\n",
       "      <td>78</td>\n",
       "    </tr>\n",
       "    <tr>\n",
       "      <th>6</th>\n",
       "      <td>Canada</td>\n",
       "      <td>70</td>\n",
       "    </tr>\n",
       "    <tr>\n",
       "      <th>7</th>\n",
       "      <td>France</td>\n",
       "      <td>53</td>\n",
       "    </tr>\n",
       "    <tr>\n",
       "      <th>8</th>\n",
       "      <td>Austria</td>\n",
       "      <td>71</td>\n",
       "    </tr>\n",
       "    <tr>\n",
       "      <th>9</th>\n",
       "      <td>Great Britain</td>\n",
       "      <td>52</td>\n",
       "    </tr>\n",
       "    <tr>\n",
       "      <th>10</th>\n",
       "      <td>Germany</td>\n",
       "      <td>64</td>\n",
       "    </tr>\n",
       "    <tr>\n",
       "      <th>11</th>\n",
       "      <td>Hungary</td>\n",
       "      <td>70</td>\n",
       "    </tr>\n",
       "    <tr>\n",
       "      <th>12</th>\n",
       "      <td>Belgium</td>\n",
       "      <td>44</td>\n",
       "    </tr>\n",
       "    <tr>\n",
       "      <th>13</th>\n",
       "      <td>Italy</td>\n",
       "      <td>53</td>\n",
       "    </tr>\n",
       "    <tr>\n",
       "      <th>14</th>\n",
       "      <td>Singapore</td>\n",
       "      <td>61</td>\n",
       "    </tr>\n",
       "    <tr>\n",
       "      <th>15</th>\n",
       "      <td>Russia</td>\n",
       "      <td>53</td>\n",
       "    </tr>\n",
       "    <tr>\n",
       "      <th>16</th>\n",
       "      <td>Japan</td>\n",
       "      <td>52</td>\n",
       "    </tr>\n",
       "    <tr>\n",
       "      <th>17</th>\n",
       "      <td>Mexico</td>\n",
       "      <td>71</td>\n",
       "    </tr>\n",
       "    <tr>\n",
       "      <th>18</th>\n",
       "      <td>United States</td>\n",
       "      <td>56</td>\n",
       "    </tr>\n",
       "    <tr>\n",
       "      <th>19</th>\n",
       "      <td>Brazil</td>\n",
       "      <td>71</td>\n",
       "    </tr>\n",
       "  </tbody>\n",
       "</table>\n",
       "</div>"
      ],
      "text/plain": [
       "       grand_prix  laps\n",
       "0       Australia    58\n",
       "1         Bahrain    57\n",
       "2           China    56\n",
       "3      Azerbaijan    51\n",
       "4           Spain    66\n",
       "5          Monaco    78\n",
       "6          Canada    70\n",
       "7          France    53\n",
       "8         Austria    71\n",
       "9   Great Britain    52\n",
       "10        Germany    64\n",
       "11        Hungary    70\n",
       "12        Belgium    44\n",
       "13          Italy    53\n",
       "14      Singapore    61\n",
       "15         Russia    53\n",
       "16          Japan    52\n",
       "17         Mexico    71\n",
       "18  United States    56\n",
       "19         Brazil    71"
      ]
     },
     "execution_count": 36,
     "metadata": {},
     "output_type": "execute_result"
    }
   ],
   "source": [
    "f1_2019_races"
   ]
  },
  {
   "cell_type": "markdown",
   "metadata": {},
   "source": [
    "**Adding columns to a DataFrame**"
   ]
  },
  {
   "cell_type": "code",
   "execution_count": 37,
   "metadata": {},
   "outputs": [],
   "source": [
    "f1_2019_races['winner'] = [\n",
    "    'Valtteri Bottas', 'Lewis Hamilton', 'Lewis Hamilton',\n",
    "    'Valtteri Bottas', 'Lewis Hamilton', 'Lewis Hamilton',\n",
    "    'Lewis Hamilton', 'Lewis Hamilton', 'Max Verstappen',\n",
    "    'Lewis Hamilton', 'Max Verstappen', 'Lewis Hamilton',\n",
    "    'Charles Leclerc', 'Charles Leclerc', 'Sebastian Vettel',\n",
    "    'Lewis Hamilton', 'Valtteri Bottas', 'Lewis Hamilton',\n",
    "    'Valtteri Bottas', 'Max Verstappen',\n",
    "]"
   ]
  },
  {
   "cell_type": "code",
   "execution_count": 38,
   "metadata": {},
   "outputs": [],
   "source": [
    "f1_2019_races['car'] = [\n",
    "    'MERCEDES', 'MERCEDES', 'MERCEDES', \n",
    "    'MERCEDES', 'MERCEDES', 'MERCEDES', \n",
    "    'MERCEDES', 'MERCEDES', 'RED BULL RACING HONDA',\n",
    "    'MERCEDES', 'RED BULL RACING HONDA', 'MERCEDES',\n",
    "    'FERRARI', 'FERRARI', 'FERRARI', \n",
    "    'MERCEDES', 'MERCEDES', 'MERCEDES', \n",
    "    'MERCEDES', 'RED BULL RACING HONDA'\n",
    "]"
   ]
  },
  {
   "cell_type": "code",
   "execution_count": 39,
   "metadata": {},
   "outputs": [
    {
     "data": {
      "text/html": [
       "<div>\n",
       "<style scoped>\n",
       "    .dataframe tbody tr th:only-of-type {\n",
       "        vertical-align: middle;\n",
       "    }\n",
       "\n",
       "    .dataframe tbody tr th {\n",
       "        vertical-align: top;\n",
       "    }\n",
       "\n",
       "    .dataframe thead th {\n",
       "        text-align: right;\n",
       "    }\n",
       "</style>\n",
       "<table border=\"1\" class=\"dataframe\">\n",
       "  <thead>\n",
       "    <tr style=\"text-align: right;\">\n",
       "      <th></th>\n",
       "      <th>grand_prix</th>\n",
       "      <th>laps</th>\n",
       "      <th>winner</th>\n",
       "      <th>car</th>\n",
       "    </tr>\n",
       "  </thead>\n",
       "  <tbody>\n",
       "    <tr>\n",
       "      <th>0</th>\n",
       "      <td>Australia</td>\n",
       "      <td>58</td>\n",
       "      <td>Valtteri Bottas</td>\n",
       "      <td>MERCEDES</td>\n",
       "    </tr>\n",
       "    <tr>\n",
       "      <th>1</th>\n",
       "      <td>Bahrain</td>\n",
       "      <td>57</td>\n",
       "      <td>Lewis Hamilton</td>\n",
       "      <td>MERCEDES</td>\n",
       "    </tr>\n",
       "    <tr>\n",
       "      <th>2</th>\n",
       "      <td>China</td>\n",
       "      <td>56</td>\n",
       "      <td>Lewis Hamilton</td>\n",
       "      <td>MERCEDES</td>\n",
       "    </tr>\n",
       "    <tr>\n",
       "      <th>3</th>\n",
       "      <td>Azerbaijan</td>\n",
       "      <td>51</td>\n",
       "      <td>Valtteri Bottas</td>\n",
       "      <td>MERCEDES</td>\n",
       "    </tr>\n",
       "    <tr>\n",
       "      <th>4</th>\n",
       "      <td>Spain</td>\n",
       "      <td>66</td>\n",
       "      <td>Lewis Hamilton</td>\n",
       "      <td>MERCEDES</td>\n",
       "    </tr>\n",
       "    <tr>\n",
       "      <th>5</th>\n",
       "      <td>Monaco</td>\n",
       "      <td>78</td>\n",
       "      <td>Lewis Hamilton</td>\n",
       "      <td>MERCEDES</td>\n",
       "    </tr>\n",
       "    <tr>\n",
       "      <th>6</th>\n",
       "      <td>Canada</td>\n",
       "      <td>70</td>\n",
       "      <td>Lewis Hamilton</td>\n",
       "      <td>MERCEDES</td>\n",
       "    </tr>\n",
       "    <tr>\n",
       "      <th>7</th>\n",
       "      <td>France</td>\n",
       "      <td>53</td>\n",
       "      <td>Lewis Hamilton</td>\n",
       "      <td>MERCEDES</td>\n",
       "    </tr>\n",
       "    <tr>\n",
       "      <th>8</th>\n",
       "      <td>Austria</td>\n",
       "      <td>71</td>\n",
       "      <td>Max Verstappen</td>\n",
       "      <td>RED BULL RACING HONDA</td>\n",
       "    </tr>\n",
       "    <tr>\n",
       "      <th>9</th>\n",
       "      <td>Great Britain</td>\n",
       "      <td>52</td>\n",
       "      <td>Lewis Hamilton</td>\n",
       "      <td>MERCEDES</td>\n",
       "    </tr>\n",
       "    <tr>\n",
       "      <th>10</th>\n",
       "      <td>Germany</td>\n",
       "      <td>64</td>\n",
       "      <td>Max Verstappen</td>\n",
       "      <td>RED BULL RACING HONDA</td>\n",
       "    </tr>\n",
       "    <tr>\n",
       "      <th>11</th>\n",
       "      <td>Hungary</td>\n",
       "      <td>70</td>\n",
       "      <td>Lewis Hamilton</td>\n",
       "      <td>MERCEDES</td>\n",
       "    </tr>\n",
       "    <tr>\n",
       "      <th>12</th>\n",
       "      <td>Belgium</td>\n",
       "      <td>44</td>\n",
       "      <td>Charles Leclerc</td>\n",
       "      <td>FERRARI</td>\n",
       "    </tr>\n",
       "    <tr>\n",
       "      <th>13</th>\n",
       "      <td>Italy</td>\n",
       "      <td>53</td>\n",
       "      <td>Charles Leclerc</td>\n",
       "      <td>FERRARI</td>\n",
       "    </tr>\n",
       "    <tr>\n",
       "      <th>14</th>\n",
       "      <td>Singapore</td>\n",
       "      <td>61</td>\n",
       "      <td>Sebastian Vettel</td>\n",
       "      <td>FERRARI</td>\n",
       "    </tr>\n",
       "    <tr>\n",
       "      <th>15</th>\n",
       "      <td>Russia</td>\n",
       "      <td>53</td>\n",
       "      <td>Lewis Hamilton</td>\n",
       "      <td>MERCEDES</td>\n",
       "    </tr>\n",
       "    <tr>\n",
       "      <th>16</th>\n",
       "      <td>Japan</td>\n",
       "      <td>52</td>\n",
       "      <td>Valtteri Bottas</td>\n",
       "      <td>MERCEDES</td>\n",
       "    </tr>\n",
       "    <tr>\n",
       "      <th>17</th>\n",
       "      <td>Mexico</td>\n",
       "      <td>71</td>\n",
       "      <td>Lewis Hamilton</td>\n",
       "      <td>MERCEDES</td>\n",
       "    </tr>\n",
       "    <tr>\n",
       "      <th>18</th>\n",
       "      <td>United States</td>\n",
       "      <td>56</td>\n",
       "      <td>Valtteri Bottas</td>\n",
       "      <td>MERCEDES</td>\n",
       "    </tr>\n",
       "    <tr>\n",
       "      <th>19</th>\n",
       "      <td>Brazil</td>\n",
       "      <td>71</td>\n",
       "      <td>Max Verstappen</td>\n",
       "      <td>RED BULL RACING HONDA</td>\n",
       "    </tr>\n",
       "  </tbody>\n",
       "</table>\n",
       "</div>"
      ],
      "text/plain": [
       "       grand_prix  laps            winner                    car\n",
       "0       Australia    58   Valtteri Bottas               MERCEDES\n",
       "1         Bahrain    57    Lewis Hamilton               MERCEDES\n",
       "2           China    56    Lewis Hamilton               MERCEDES\n",
       "3      Azerbaijan    51   Valtteri Bottas               MERCEDES\n",
       "4           Spain    66    Lewis Hamilton               MERCEDES\n",
       "5          Monaco    78    Lewis Hamilton               MERCEDES\n",
       "6          Canada    70    Lewis Hamilton               MERCEDES\n",
       "7          France    53    Lewis Hamilton               MERCEDES\n",
       "8         Austria    71    Max Verstappen  RED BULL RACING HONDA\n",
       "9   Great Britain    52    Lewis Hamilton               MERCEDES\n",
       "10        Germany    64    Max Verstappen  RED BULL RACING HONDA\n",
       "11        Hungary    70    Lewis Hamilton               MERCEDES\n",
       "12        Belgium    44   Charles Leclerc                FERRARI\n",
       "13          Italy    53   Charles Leclerc                FERRARI\n",
       "14      Singapore    61  Sebastian Vettel                FERRARI\n",
       "15         Russia    53    Lewis Hamilton               MERCEDES\n",
       "16          Japan    52   Valtteri Bottas               MERCEDES\n",
       "17         Mexico    71    Lewis Hamilton               MERCEDES\n",
       "18  United States    56   Valtteri Bottas               MERCEDES\n",
       "19         Brazil    71    Max Verstappen  RED BULL RACING HONDA"
      ]
     },
     "execution_count": 39,
     "metadata": {},
     "output_type": "execute_result"
    }
   ],
   "source": [
    "f1_2019_races"
   ]
  },
  {
   "cell_type": "code",
   "execution_count": 40,
   "metadata": {},
   "outputs": [
    {
     "data": {
      "text/plain": [
       "pandas.core.series.Series"
      ]
     },
     "execution_count": 40,
     "metadata": {},
     "output_type": "execute_result"
    }
   ],
   "source": [
    "# A column in a DataFrame is simply a Series \n",
    "type(f1_2019_races['grand_prix'])"
   ]
  },
  {
   "cell_type": "markdown",
   "metadata": {},
   "source": [
    "**Appending rows to the DataFrame**"
   ]
  },
  {
   "cell_type": "code",
   "execution_count": 41,
   "metadata": {},
   "outputs": [],
   "source": [
    "abu_dhabi_race = pd.Series(['Abu Dhabi', 55, 'Lewis Hamilton', 'MERCEDES'],\n",
    "                           index=['grand_prix', 'laps', 'winner', 'car'])"
   ]
  },
  {
   "cell_type": "code",
   "execution_count": 42,
   "metadata": {},
   "outputs": [],
   "source": [
    "f1_2019_races = f1_2019_races._append(abu_dhabi_race, ignore_index=True)"
   ]
  },
  {
   "cell_type": "code",
   "execution_count": 43,
   "metadata": {},
   "outputs": [
    {
     "data": {
      "text/html": [
       "<div>\n",
       "<style scoped>\n",
       "    .dataframe tbody tr th:only-of-type {\n",
       "        vertical-align: middle;\n",
       "    }\n",
       "\n",
       "    .dataframe tbody tr th {\n",
       "        vertical-align: top;\n",
       "    }\n",
       "\n",
       "    .dataframe thead th {\n",
       "        text-align: right;\n",
       "    }\n",
       "</style>\n",
       "<table border=\"1\" class=\"dataframe\">\n",
       "  <thead>\n",
       "    <tr style=\"text-align: right;\">\n",
       "      <th></th>\n",
       "      <th>grand_prix</th>\n",
       "      <th>laps</th>\n",
       "      <th>winner</th>\n",
       "      <th>car</th>\n",
       "    </tr>\n",
       "  </thead>\n",
       "  <tbody>\n",
       "    <tr>\n",
       "      <th>0</th>\n",
       "      <td>Australia</td>\n",
       "      <td>58</td>\n",
       "      <td>Valtteri Bottas</td>\n",
       "      <td>MERCEDES</td>\n",
       "    </tr>\n",
       "    <tr>\n",
       "      <th>1</th>\n",
       "      <td>Bahrain</td>\n",
       "      <td>57</td>\n",
       "      <td>Lewis Hamilton</td>\n",
       "      <td>MERCEDES</td>\n",
       "    </tr>\n",
       "    <tr>\n",
       "      <th>2</th>\n",
       "      <td>China</td>\n",
       "      <td>56</td>\n",
       "      <td>Lewis Hamilton</td>\n",
       "      <td>MERCEDES</td>\n",
       "    </tr>\n",
       "    <tr>\n",
       "      <th>3</th>\n",
       "      <td>Azerbaijan</td>\n",
       "      <td>51</td>\n",
       "      <td>Valtteri Bottas</td>\n",
       "      <td>MERCEDES</td>\n",
       "    </tr>\n",
       "    <tr>\n",
       "      <th>4</th>\n",
       "      <td>Spain</td>\n",
       "      <td>66</td>\n",
       "      <td>Lewis Hamilton</td>\n",
       "      <td>MERCEDES</td>\n",
       "    </tr>\n",
       "    <tr>\n",
       "      <th>5</th>\n",
       "      <td>Monaco</td>\n",
       "      <td>78</td>\n",
       "      <td>Lewis Hamilton</td>\n",
       "      <td>MERCEDES</td>\n",
       "    </tr>\n",
       "    <tr>\n",
       "      <th>6</th>\n",
       "      <td>Canada</td>\n",
       "      <td>70</td>\n",
       "      <td>Lewis Hamilton</td>\n",
       "      <td>MERCEDES</td>\n",
       "    </tr>\n",
       "    <tr>\n",
       "      <th>7</th>\n",
       "      <td>France</td>\n",
       "      <td>53</td>\n",
       "      <td>Lewis Hamilton</td>\n",
       "      <td>MERCEDES</td>\n",
       "    </tr>\n",
       "    <tr>\n",
       "      <th>8</th>\n",
       "      <td>Austria</td>\n",
       "      <td>71</td>\n",
       "      <td>Max Verstappen</td>\n",
       "      <td>RED BULL RACING HONDA</td>\n",
       "    </tr>\n",
       "    <tr>\n",
       "      <th>9</th>\n",
       "      <td>Great Britain</td>\n",
       "      <td>52</td>\n",
       "      <td>Lewis Hamilton</td>\n",
       "      <td>MERCEDES</td>\n",
       "    </tr>\n",
       "    <tr>\n",
       "      <th>10</th>\n",
       "      <td>Germany</td>\n",
       "      <td>64</td>\n",
       "      <td>Max Verstappen</td>\n",
       "      <td>RED BULL RACING HONDA</td>\n",
       "    </tr>\n",
       "    <tr>\n",
       "      <th>11</th>\n",
       "      <td>Hungary</td>\n",
       "      <td>70</td>\n",
       "      <td>Lewis Hamilton</td>\n",
       "      <td>MERCEDES</td>\n",
       "    </tr>\n",
       "    <tr>\n",
       "      <th>12</th>\n",
       "      <td>Belgium</td>\n",
       "      <td>44</td>\n",
       "      <td>Charles Leclerc</td>\n",
       "      <td>FERRARI</td>\n",
       "    </tr>\n",
       "    <tr>\n",
       "      <th>13</th>\n",
       "      <td>Italy</td>\n",
       "      <td>53</td>\n",
       "      <td>Charles Leclerc</td>\n",
       "      <td>FERRARI</td>\n",
       "    </tr>\n",
       "    <tr>\n",
       "      <th>14</th>\n",
       "      <td>Singapore</td>\n",
       "      <td>61</td>\n",
       "      <td>Sebastian Vettel</td>\n",
       "      <td>FERRARI</td>\n",
       "    </tr>\n",
       "    <tr>\n",
       "      <th>15</th>\n",
       "      <td>Russia</td>\n",
       "      <td>53</td>\n",
       "      <td>Lewis Hamilton</td>\n",
       "      <td>MERCEDES</td>\n",
       "    </tr>\n",
       "    <tr>\n",
       "      <th>16</th>\n",
       "      <td>Japan</td>\n",
       "      <td>52</td>\n",
       "      <td>Valtteri Bottas</td>\n",
       "      <td>MERCEDES</td>\n",
       "    </tr>\n",
       "    <tr>\n",
       "      <th>17</th>\n",
       "      <td>Mexico</td>\n",
       "      <td>71</td>\n",
       "      <td>Lewis Hamilton</td>\n",
       "      <td>MERCEDES</td>\n",
       "    </tr>\n",
       "    <tr>\n",
       "      <th>18</th>\n",
       "      <td>United States</td>\n",
       "      <td>56</td>\n",
       "      <td>Valtteri Bottas</td>\n",
       "      <td>MERCEDES</td>\n",
       "    </tr>\n",
       "    <tr>\n",
       "      <th>19</th>\n",
       "      <td>Brazil</td>\n",
       "      <td>71</td>\n",
       "      <td>Max Verstappen</td>\n",
       "      <td>RED BULL RACING HONDA</td>\n",
       "    </tr>\n",
       "    <tr>\n",
       "      <th>20</th>\n",
       "      <td>Abu Dhabi</td>\n",
       "      <td>55</td>\n",
       "      <td>Lewis Hamilton</td>\n",
       "      <td>MERCEDES</td>\n",
       "    </tr>\n",
       "  </tbody>\n",
       "</table>\n",
       "</div>"
      ],
      "text/plain": [
       "       grand_prix  laps            winner                    car\n",
       "0       Australia    58   Valtteri Bottas               MERCEDES\n",
       "1         Bahrain    57    Lewis Hamilton               MERCEDES\n",
       "2           China    56    Lewis Hamilton               MERCEDES\n",
       "3      Azerbaijan    51   Valtteri Bottas               MERCEDES\n",
       "4           Spain    66    Lewis Hamilton               MERCEDES\n",
       "5          Monaco    78    Lewis Hamilton               MERCEDES\n",
       "6          Canada    70    Lewis Hamilton               MERCEDES\n",
       "7          France    53    Lewis Hamilton               MERCEDES\n",
       "8         Austria    71    Max Verstappen  RED BULL RACING HONDA\n",
       "9   Great Britain    52    Lewis Hamilton               MERCEDES\n",
       "10        Germany    64    Max Verstappen  RED BULL RACING HONDA\n",
       "11        Hungary    70    Lewis Hamilton               MERCEDES\n",
       "12        Belgium    44   Charles Leclerc                FERRARI\n",
       "13          Italy    53   Charles Leclerc                FERRARI\n",
       "14      Singapore    61  Sebastian Vettel                FERRARI\n",
       "15         Russia    53    Lewis Hamilton               MERCEDES\n",
       "16          Japan    52   Valtteri Bottas               MERCEDES\n",
       "17         Mexico    71    Lewis Hamilton               MERCEDES\n",
       "18  United States    56   Valtteri Bottas               MERCEDES\n",
       "19         Brazil    71    Max Verstappen  RED BULL RACING HONDA\n",
       "20      Abu Dhabi    55    Lewis Hamilton               MERCEDES"
      ]
     },
     "execution_count": 43,
     "metadata": {},
     "output_type": "execute_result"
    }
   ],
   "source": [
    "f1_2019_races"
   ]
  },
  {
   "cell_type": "markdown",
   "metadata": {},
   "source": [
    "<a id=\"dataframe-characteristics\"></a>\n",
    "### DataFrame Characteristics\n"
   ]
  },
  {
   "cell_type": "code",
   "execution_count": 44,
   "metadata": {},
   "outputs": [
    {
     "data": {
      "text/plain": [
       "(21, 4)"
      ]
     },
     "execution_count": 44,
     "metadata": {},
     "output_type": "execute_result"
    }
   ],
   "source": [
    "f1_2019_races.shape"
   ]
  },
  {
   "cell_type": "code",
   "execution_count": 45,
   "metadata": {},
   "outputs": [
    {
     "data": {
      "text/html": [
       "<div>\n",
       "<style scoped>\n",
       "    .dataframe tbody tr th:only-of-type {\n",
       "        vertical-align: middle;\n",
       "    }\n",
       "\n",
       "    .dataframe tbody tr th {\n",
       "        vertical-align: top;\n",
       "    }\n",
       "\n",
       "    .dataframe thead th {\n",
       "        text-align: right;\n",
       "    }\n",
       "</style>\n",
       "<table border=\"1\" class=\"dataframe\">\n",
       "  <thead>\n",
       "    <tr style=\"text-align: right;\">\n",
       "      <th></th>\n",
       "      <th>laps</th>\n",
       "    </tr>\n",
       "  </thead>\n",
       "  <tbody>\n",
       "    <tr>\n",
       "      <th>count</th>\n",
       "      <td>21.000000</td>\n",
       "    </tr>\n",
       "    <tr>\n",
       "      <th>mean</th>\n",
       "      <td>60.095238</td>\n",
       "    </tr>\n",
       "    <tr>\n",
       "      <th>std</th>\n",
       "      <td>9.005025</td>\n",
       "    </tr>\n",
       "    <tr>\n",
       "      <th>min</th>\n",
       "      <td>44.000000</td>\n",
       "    </tr>\n",
       "    <tr>\n",
       "      <th>25%</th>\n",
       "      <td>53.000000</td>\n",
       "    </tr>\n",
       "    <tr>\n",
       "      <th>50%</th>\n",
       "      <td>57.000000</td>\n",
       "    </tr>\n",
       "    <tr>\n",
       "      <th>75%</th>\n",
       "      <td>70.000000</td>\n",
       "    </tr>\n",
       "    <tr>\n",
       "      <th>max</th>\n",
       "      <td>78.000000</td>\n",
       "    </tr>\n",
       "  </tbody>\n",
       "</table>\n",
       "</div>"
      ],
      "text/plain": [
       "            laps\n",
       "count  21.000000\n",
       "mean   60.095238\n",
       "std     9.005025\n",
       "min    44.000000\n",
       "25%    53.000000\n",
       "50%    57.000000\n",
       "75%    70.000000\n",
       "max    78.000000"
      ]
     },
     "execution_count": 45,
     "metadata": {},
     "output_type": "execute_result"
    }
   ],
   "source": [
    "f1_2019_races.describe()"
   ]
  },
  {
   "cell_type": "code",
   "execution_count": 46,
   "metadata": {},
   "outputs": [
    {
     "data": {
      "text/plain": [
       "count           21\n",
       "unique           3\n",
       "top       MERCEDES\n",
       "freq            15\n",
       "Name: car, dtype: object"
      ]
     },
     "execution_count": 46,
     "metadata": {},
     "output_type": "execute_result"
    }
   ],
   "source": [
    "# describe is also available for Series (a column in the DataFrame)\n",
    "f1_2019_races['car'].describe()"
   ]
  },
  {
   "cell_type": "code",
   "execution_count": 47,
   "metadata": {},
   "outputs": [
    {
     "data": {
      "text/html": [
       "<div>\n",
       "<style scoped>\n",
       "    .dataframe tbody tr th:only-of-type {\n",
       "        vertical-align: middle;\n",
       "    }\n",
       "\n",
       "    .dataframe tbody tr th {\n",
       "        vertical-align: top;\n",
       "    }\n",
       "\n",
       "    .dataframe thead th {\n",
       "        text-align: right;\n",
       "    }\n",
       "</style>\n",
       "<table border=\"1\" class=\"dataframe\">\n",
       "  <thead>\n",
       "    <tr style=\"text-align: right;\">\n",
       "      <th></th>\n",
       "      <th>grand_prix</th>\n",
       "      <th>laps</th>\n",
       "      <th>winner</th>\n",
       "      <th>car</th>\n",
       "    </tr>\n",
       "  </thead>\n",
       "  <tbody>\n",
       "    <tr>\n",
       "      <th>0</th>\n",
       "      <td>Australia</td>\n",
       "      <td>58</td>\n",
       "      <td>Valtteri Bottas</td>\n",
       "      <td>MERCEDES</td>\n",
       "    </tr>\n",
       "    <tr>\n",
       "      <th>1</th>\n",
       "      <td>Bahrain</td>\n",
       "      <td>57</td>\n",
       "      <td>Lewis Hamilton</td>\n",
       "      <td>MERCEDES</td>\n",
       "    </tr>\n",
       "    <tr>\n",
       "      <th>2</th>\n",
       "      <td>China</td>\n",
       "      <td>56</td>\n",
       "      <td>Lewis Hamilton</td>\n",
       "      <td>MERCEDES</td>\n",
       "    </tr>\n",
       "    <tr>\n",
       "      <th>3</th>\n",
       "      <td>Azerbaijan</td>\n",
       "      <td>51</td>\n",
       "      <td>Valtteri Bottas</td>\n",
       "      <td>MERCEDES</td>\n",
       "    </tr>\n",
       "    <tr>\n",
       "      <th>4</th>\n",
       "      <td>Spain</td>\n",
       "      <td>66</td>\n",
       "      <td>Lewis Hamilton</td>\n",
       "      <td>MERCEDES</td>\n",
       "    </tr>\n",
       "  </tbody>\n",
       "</table>\n",
       "</div>"
      ],
      "text/plain": [
       "   grand_prix  laps           winner       car\n",
       "0   Australia    58  Valtteri Bottas  MERCEDES\n",
       "1     Bahrain    57   Lewis Hamilton  MERCEDES\n",
       "2       China    56   Lewis Hamilton  MERCEDES\n",
       "3  Azerbaijan    51  Valtteri Bottas  MERCEDES\n",
       "4       Spain    66   Lewis Hamilton  MERCEDES"
      ]
     },
     "execution_count": 47,
     "metadata": {},
     "output_type": "execute_result"
    }
   ],
   "source": [
    "# view the first few rows (defaults to first 5)\n",
    "f1_2019_races.head()"
   ]
  },
  {
   "cell_type": "code",
   "execution_count": 48,
   "metadata": {},
   "outputs": [
    {
     "data": {
      "text/html": [
       "<div>\n",
       "<style scoped>\n",
       "    .dataframe tbody tr th:only-of-type {\n",
       "        vertical-align: middle;\n",
       "    }\n",
       "\n",
       "    .dataframe tbody tr th {\n",
       "        vertical-align: top;\n",
       "    }\n",
       "\n",
       "    .dataframe thead th {\n",
       "        text-align: right;\n",
       "    }\n",
       "</style>\n",
       "<table border=\"1\" class=\"dataframe\">\n",
       "  <thead>\n",
       "    <tr style=\"text-align: right;\">\n",
       "      <th></th>\n",
       "      <th>grand_prix</th>\n",
       "      <th>laps</th>\n",
       "      <th>winner</th>\n",
       "      <th>car</th>\n",
       "    </tr>\n",
       "  </thead>\n",
       "  <tbody>\n",
       "    <tr>\n",
       "      <th>0</th>\n",
       "      <td>Australia</td>\n",
       "      <td>58</td>\n",
       "      <td>Valtteri Bottas</td>\n",
       "      <td>MERCEDES</td>\n",
       "    </tr>\n",
       "    <tr>\n",
       "      <th>1</th>\n",
       "      <td>Bahrain</td>\n",
       "      <td>57</td>\n",
       "      <td>Lewis Hamilton</td>\n",
       "      <td>MERCEDES</td>\n",
       "    </tr>\n",
       "    <tr>\n",
       "      <th>2</th>\n",
       "      <td>China</td>\n",
       "      <td>56</td>\n",
       "      <td>Lewis Hamilton</td>\n",
       "      <td>MERCEDES</td>\n",
       "    </tr>\n",
       "  </tbody>\n",
       "</table>\n",
       "</div>"
      ],
      "text/plain": [
       "  grand_prix  laps           winner       car\n",
       "0  Australia    58  Valtteri Bottas  MERCEDES\n",
       "1    Bahrain    57   Lewis Hamilton  MERCEDES\n",
       "2      China    56   Lewis Hamilton  MERCEDES"
      ]
     },
     "execution_count": 48,
     "metadata": {},
     "output_type": "execute_result"
    }
   ],
   "source": [
    "f1_2019_races.head(3) # we can specify how many we want instead of the default value."
   ]
  },
  {
   "cell_type": "code",
   "execution_count": 49,
   "metadata": {},
   "outputs": [
    {
     "data": {
      "text/html": [
       "<div>\n",
       "<style scoped>\n",
       "    .dataframe tbody tr th:only-of-type {\n",
       "        vertical-align: middle;\n",
       "    }\n",
       "\n",
       "    .dataframe tbody tr th {\n",
       "        vertical-align: top;\n",
       "    }\n",
       "\n",
       "    .dataframe thead th {\n",
       "        text-align: right;\n",
       "    }\n",
       "</style>\n",
       "<table border=\"1\" class=\"dataframe\">\n",
       "  <thead>\n",
       "    <tr style=\"text-align: right;\">\n",
       "      <th></th>\n",
       "      <th>grand_prix</th>\n",
       "      <th>laps</th>\n",
       "      <th>winner</th>\n",
       "      <th>car</th>\n",
       "    </tr>\n",
       "  </thead>\n",
       "  <tbody>\n",
       "    <tr>\n",
       "      <th>16</th>\n",
       "      <td>Japan</td>\n",
       "      <td>52</td>\n",
       "      <td>Valtteri Bottas</td>\n",
       "      <td>MERCEDES</td>\n",
       "    </tr>\n",
       "    <tr>\n",
       "      <th>17</th>\n",
       "      <td>Mexico</td>\n",
       "      <td>71</td>\n",
       "      <td>Lewis Hamilton</td>\n",
       "      <td>MERCEDES</td>\n",
       "    </tr>\n",
       "    <tr>\n",
       "      <th>18</th>\n",
       "      <td>United States</td>\n",
       "      <td>56</td>\n",
       "      <td>Valtteri Bottas</td>\n",
       "      <td>MERCEDES</td>\n",
       "    </tr>\n",
       "    <tr>\n",
       "      <th>19</th>\n",
       "      <td>Brazil</td>\n",
       "      <td>71</td>\n",
       "      <td>Max Verstappen</td>\n",
       "      <td>RED BULL RACING HONDA</td>\n",
       "    </tr>\n",
       "    <tr>\n",
       "      <th>20</th>\n",
       "      <td>Abu Dhabi</td>\n",
       "      <td>55</td>\n",
       "      <td>Lewis Hamilton</td>\n",
       "      <td>MERCEDES</td>\n",
       "    </tr>\n",
       "  </tbody>\n",
       "</table>\n",
       "</div>"
      ],
      "text/plain": [
       "       grand_prix  laps           winner                    car\n",
       "16          Japan    52  Valtteri Bottas               MERCEDES\n",
       "17         Mexico    71   Lewis Hamilton               MERCEDES\n",
       "18  United States    56  Valtteri Bottas               MERCEDES\n",
       "19         Brazil    71   Max Verstappen  RED BULL RACING HONDA\n",
       "20      Abu Dhabi    55   Lewis Hamilton               MERCEDES"
      ]
     },
     "execution_count": 49,
     "metadata": {},
     "output_type": "execute_result"
    }
   ],
   "source": [
    "# view the last few rows (defaults to last 5)\n",
    "f1_2019_races.tail()"
   ]
  },
  {
   "cell_type": "code",
   "execution_count": 50,
   "metadata": {},
   "outputs": [
    {
     "data": {
      "text/html": [
       "<div>\n",
       "<style scoped>\n",
       "    .dataframe tbody tr th:only-of-type {\n",
       "        vertical-align: middle;\n",
       "    }\n",
       "\n",
       "    .dataframe tbody tr th {\n",
       "        vertical-align: top;\n",
       "    }\n",
       "\n",
       "    .dataframe thead th {\n",
       "        text-align: right;\n",
       "    }\n",
       "</style>\n",
       "<table border=\"1\" class=\"dataframe\">\n",
       "  <thead>\n",
       "    <tr style=\"text-align: right;\">\n",
       "      <th></th>\n",
       "      <th>grand_prix</th>\n",
       "      <th>laps</th>\n",
       "      <th>winner</th>\n",
       "      <th>car</th>\n",
       "    </tr>\n",
       "  </thead>\n",
       "  <tbody>\n",
       "    <tr>\n",
       "      <th>14</th>\n",
       "      <td>Singapore</td>\n",
       "      <td>61</td>\n",
       "      <td>Sebastian Vettel</td>\n",
       "      <td>FERRARI</td>\n",
       "    </tr>\n",
       "    <tr>\n",
       "      <th>15</th>\n",
       "      <td>Russia</td>\n",
       "      <td>53</td>\n",
       "      <td>Lewis Hamilton</td>\n",
       "      <td>MERCEDES</td>\n",
       "    </tr>\n",
       "    <tr>\n",
       "      <th>16</th>\n",
       "      <td>Japan</td>\n",
       "      <td>52</td>\n",
       "      <td>Valtteri Bottas</td>\n",
       "      <td>MERCEDES</td>\n",
       "    </tr>\n",
       "    <tr>\n",
       "      <th>17</th>\n",
       "      <td>Mexico</td>\n",
       "      <td>71</td>\n",
       "      <td>Lewis Hamilton</td>\n",
       "      <td>MERCEDES</td>\n",
       "    </tr>\n",
       "    <tr>\n",
       "      <th>18</th>\n",
       "      <td>United States</td>\n",
       "      <td>56</td>\n",
       "      <td>Valtteri Bottas</td>\n",
       "      <td>MERCEDES</td>\n",
       "    </tr>\n",
       "    <tr>\n",
       "      <th>19</th>\n",
       "      <td>Brazil</td>\n",
       "      <td>71</td>\n",
       "      <td>Max Verstappen</td>\n",
       "      <td>RED BULL RACING HONDA</td>\n",
       "    </tr>\n",
       "    <tr>\n",
       "      <th>20</th>\n",
       "      <td>Abu Dhabi</td>\n",
       "      <td>55</td>\n",
       "      <td>Lewis Hamilton</td>\n",
       "      <td>MERCEDES</td>\n",
       "    </tr>\n",
       "  </tbody>\n",
       "</table>\n",
       "</div>"
      ],
      "text/plain": [
       "       grand_prix  laps            winner                    car\n",
       "14      Singapore    61  Sebastian Vettel                FERRARI\n",
       "15         Russia    53    Lewis Hamilton               MERCEDES\n",
       "16          Japan    52   Valtteri Bottas               MERCEDES\n",
       "17         Mexico    71    Lewis Hamilton               MERCEDES\n",
       "18  United States    56   Valtteri Bottas               MERCEDES\n",
       "19         Brazil    71    Max Verstappen  RED BULL RACING HONDA\n",
       "20      Abu Dhabi    55    Lewis Hamilton               MERCEDES"
      ]
     },
     "execution_count": 50,
     "metadata": {},
     "output_type": "execute_result"
    }
   ],
   "source": [
    "f1_2019_races.tail(7) # we can specify how many we want instead of the default value."
   ]
  },
  {
   "cell_type": "markdown",
   "metadata": {},
   "source": [
    "<a id=\"dataframe-indexing\"></a>\n",
    "### DataFrame Indexing\n"
   ]
  },
  {
   "cell_type": "markdown",
   "metadata": {},
   "source": [
    "**Using iloc to select a single row**"
   ]
  },
  {
   "cell_type": "code",
   "execution_count": 51,
   "metadata": {},
   "outputs": [
    {
     "data": {
      "text/plain": [
       "grand_prix          Australia\n",
       "laps                       58\n",
       "winner        Valtteri Bottas\n",
       "car                  MERCEDES\n",
       "Name: 0, dtype: object"
      ]
     },
     "execution_count": 51,
     "metadata": {},
     "output_type": "execute_result"
    }
   ],
   "source": [
    "# select the first row by index position\n",
    "f1_2019_races.iloc[0]"
   ]
  },
  {
   "cell_type": "code",
   "execution_count": 52,
   "metadata": {},
   "outputs": [
    {
     "data": {
      "text/plain": [
       "grand_prix         Abu Dhabi\n",
       "laps                      55\n",
       "winner        Lewis Hamilton\n",
       "car                 MERCEDES\n",
       "Name: 20, dtype: object"
      ]
     },
     "execution_count": 52,
     "metadata": {},
     "output_type": "execute_result"
    }
   ],
   "source": [
    "# select the last row by index position\n",
    "f1_2019_races.iloc[-1]"
   ]
  },
  {
   "cell_type": "markdown",
   "metadata": {},
   "source": [
    "**Using iloc to select multiple rows (slicing)**"
   ]
  },
  {
   "cell_type": "code",
   "execution_count": 53,
   "metadata": {},
   "outputs": [
    {
     "data": {
      "text/html": [
       "<div>\n",
       "<style scoped>\n",
       "    .dataframe tbody tr th:only-of-type {\n",
       "        vertical-align: middle;\n",
       "    }\n",
       "\n",
       "    .dataframe tbody tr th {\n",
       "        vertical-align: top;\n",
       "    }\n",
       "\n",
       "    .dataframe thead th {\n",
       "        text-align: right;\n",
       "    }\n",
       "</style>\n",
       "<table border=\"1\" class=\"dataframe\">\n",
       "  <thead>\n",
       "    <tr style=\"text-align: right;\">\n",
       "      <th></th>\n",
       "      <th>grand_prix</th>\n",
       "      <th>laps</th>\n",
       "      <th>winner</th>\n",
       "      <th>car</th>\n",
       "    </tr>\n",
       "  </thead>\n",
       "  <tbody>\n",
       "    <tr>\n",
       "      <th>7</th>\n",
       "      <td>France</td>\n",
       "      <td>53</td>\n",
       "      <td>Lewis Hamilton</td>\n",
       "      <td>MERCEDES</td>\n",
       "    </tr>\n",
       "    <tr>\n",
       "      <th>8</th>\n",
       "      <td>Austria</td>\n",
       "      <td>71</td>\n",
       "      <td>Max Verstappen</td>\n",
       "      <td>RED BULL RACING HONDA</td>\n",
       "    </tr>\n",
       "    <tr>\n",
       "      <th>9</th>\n",
       "      <td>Great Britain</td>\n",
       "      <td>52</td>\n",
       "      <td>Lewis Hamilton</td>\n",
       "      <td>MERCEDES</td>\n",
       "    </tr>\n",
       "    <tr>\n",
       "      <th>10</th>\n",
       "      <td>Germany</td>\n",
       "      <td>64</td>\n",
       "      <td>Max Verstappen</td>\n",
       "      <td>RED BULL RACING HONDA</td>\n",
       "    </tr>\n",
       "    <tr>\n",
       "      <th>11</th>\n",
       "      <td>Hungary</td>\n",
       "      <td>70</td>\n",
       "      <td>Lewis Hamilton</td>\n",
       "      <td>MERCEDES</td>\n",
       "    </tr>\n",
       "    <tr>\n",
       "      <th>12</th>\n",
       "      <td>Belgium</td>\n",
       "      <td>44</td>\n",
       "      <td>Charles Leclerc</td>\n",
       "      <td>FERRARI</td>\n",
       "    </tr>\n",
       "    <tr>\n",
       "      <th>13</th>\n",
       "      <td>Italy</td>\n",
       "      <td>53</td>\n",
       "      <td>Charles Leclerc</td>\n",
       "      <td>FERRARI</td>\n",
       "    </tr>\n",
       "  </tbody>\n",
       "</table>\n",
       "</div>"
      ],
      "text/plain": [
       "       grand_prix  laps           winner                    car\n",
       "7          France    53   Lewis Hamilton               MERCEDES\n",
       "8         Austria    71   Max Verstappen  RED BULL RACING HONDA\n",
       "9   Great Britain    52   Lewis Hamilton               MERCEDES\n",
       "10        Germany    64   Max Verstappen  RED BULL RACING HONDA\n",
       "11        Hungary    70   Lewis Hamilton               MERCEDES\n",
       "12        Belgium    44  Charles Leclerc                FERRARI\n",
       "13          Italy    53  Charles Leclerc                FERRARI"
      ]
     },
     "execution_count": 53,
     "metadata": {},
     "output_type": "execute_result"
    }
   ],
   "source": [
    "# select rows associated with indexes 7-13\n",
    "f1_2019_races.iloc[7:14]"
   ]
  },
  {
   "cell_type": "markdown",
   "metadata": {},
   "source": [
    "**Using iloc to select multiple rows with steps (slicing with steps)**"
   ]
  },
  {
   "cell_type": "code",
   "execution_count": 30,
   "metadata": {},
   "outputs": [
    {
     "data": {
      "text/html": [
       "<div>\n",
       "<style scoped>\n",
       "    .dataframe tbody tr th:only-of-type {\n",
       "        vertical-align: middle;\n",
       "    }\n",
       "\n",
       "    .dataframe tbody tr th {\n",
       "        vertical-align: top;\n",
       "    }\n",
       "\n",
       "    .dataframe thead th {\n",
       "        text-align: right;\n",
       "    }\n",
       "</style>\n",
       "<table border=\"1\" class=\"dataframe\">\n",
       "  <thead>\n",
       "    <tr style=\"text-align: right;\">\n",
       "      <th></th>\n",
       "      <th>grand_prix</th>\n",
       "      <th>laps</th>\n",
       "      <th>winner</th>\n",
       "      <th>car</th>\n",
       "    </tr>\n",
       "  </thead>\n",
       "  <tbody>\n",
       "    <tr>\n",
       "      <td>2</td>\n",
       "      <td>China</td>\n",
       "      <td>56</td>\n",
       "      <td>Lewis Hamilton</td>\n",
       "      <td>MERCEDES</td>\n",
       "    </tr>\n",
       "    <tr>\n",
       "      <td>5</td>\n",
       "      <td>Monaco</td>\n",
       "      <td>78</td>\n",
       "      <td>Lewis Hamilton</td>\n",
       "      <td>MERCEDES</td>\n",
       "    </tr>\n",
       "    <tr>\n",
       "      <td>8</td>\n",
       "      <td>Austria</td>\n",
       "      <td>71</td>\n",
       "      <td>Max Verstappen</td>\n",
       "      <td>RED BULL RACING HONDA</td>\n",
       "    </tr>\n",
       "    <tr>\n",
       "      <td>11</td>\n",
       "      <td>Hungary</td>\n",
       "      <td>70</td>\n",
       "      <td>Lewis Hamilton</td>\n",
       "      <td>MERCEDES</td>\n",
       "    </tr>\n",
       "    <tr>\n",
       "      <td>14</td>\n",
       "      <td>Singapore</td>\n",
       "      <td>61</td>\n",
       "      <td>Sebastian Vettel</td>\n",
       "      <td>FERRARI</td>\n",
       "    </tr>\n",
       "    <tr>\n",
       "      <td>17</td>\n",
       "      <td>Mexico</td>\n",
       "      <td>71</td>\n",
       "      <td>Lewis Hamilton</td>\n",
       "      <td>MERCEDES</td>\n",
       "    </tr>\n",
       "    <tr>\n",
       "      <td>20</td>\n",
       "      <td>Abu Dhabi</td>\n",
       "      <td>55</td>\n",
       "      <td>Lewis Hamilton</td>\n",
       "      <td>MERCEDES</td>\n",
       "    </tr>\n",
       "  </tbody>\n",
       "</table>\n",
       "</div>"
      ],
      "text/plain": [
       "   grand_prix  laps            winner                    car\n",
       "2       China    56    Lewis Hamilton               MERCEDES\n",
       "5      Monaco    78    Lewis Hamilton               MERCEDES\n",
       "8     Austria    71    Max Verstappen  RED BULL RACING HONDA\n",
       "11    Hungary    70    Lewis Hamilton               MERCEDES\n",
       "14  Singapore    61  Sebastian Vettel                FERRARI\n",
       "17     Mexico    71    Lewis Hamilton               MERCEDES\n",
       "20  Abu Dhabi    55    Lewis Hamilton               MERCEDES"
      ]
     },
     "execution_count": 30,
     "metadata": {},
     "output_type": "execute_result"
    }
   ],
   "source": [
    "# select every third race in the DataFrame starting with the 3rd race\n",
    "# remember that arrays use zero based indexes\n",
    "f1_2019_races.iloc[2::3]"
   ]
  },
  {
   "cell_type": "markdown",
   "metadata": {},
   "source": [
    "**Setting an index**"
   ]
  },
  {
   "cell_type": "code",
   "execution_count": 54,
   "metadata": {},
   "outputs": [],
   "source": [
    "f1_2019_races = f1_2019_races.set_index(f1_2019_races['grand_prix'])"
   ]
  },
  {
   "cell_type": "markdown",
   "metadata": {},
   "source": [
    "**Using loc to select a single row**"
   ]
  },
  {
   "cell_type": "code",
   "execution_count": 55,
   "metadata": {},
   "outputs": [
    {
     "data": {
      "text/plain": [
       "grand_prix                   Brazil\n",
       "laps                             71\n",
       "winner               Max Verstappen\n",
       "car           RED BULL RACING HONDA\n",
       "Name: Brazil, dtype: object"
      ]
     },
     "execution_count": 55,
     "metadata": {},
     "output_type": "execute_result"
    }
   ],
   "source": [
    "# select the row corresponding to the Brazilian Grand Prix\n",
    "f1_2019_races.loc['Brazil']"
   ]
  },
  {
   "cell_type": "markdown",
   "metadata": {},
   "source": [
    "<a id=\"conditionals\"></a>\n",
    "### Conditionals\n"
   ]
  },
  {
   "cell_type": "markdown",
   "metadata": {},
   "source": [
    "Single condition"
   ]
  },
  {
   "cell_type": "code",
   "execution_count": 56,
   "metadata": {},
   "outputs": [
    {
     "data": {
      "text/html": [
       "<div>\n",
       "<style scoped>\n",
       "    .dataframe tbody tr th:only-of-type {\n",
       "        vertical-align: middle;\n",
       "    }\n",
       "\n",
       "    .dataframe tbody tr th {\n",
       "        vertical-align: top;\n",
       "    }\n",
       "\n",
       "    .dataframe thead th {\n",
       "        text-align: right;\n",
       "    }\n",
       "</style>\n",
       "<table border=\"1\" class=\"dataframe\">\n",
       "  <thead>\n",
       "    <tr style=\"text-align: right;\">\n",
       "      <th></th>\n",
       "      <th>grand_prix</th>\n",
       "      <th>laps</th>\n",
       "      <th>winner</th>\n",
       "      <th>car</th>\n",
       "    </tr>\n",
       "    <tr>\n",
       "      <th>grand_prix</th>\n",
       "      <th></th>\n",
       "      <th></th>\n",
       "      <th></th>\n",
       "      <th></th>\n",
       "    </tr>\n",
       "  </thead>\n",
       "  <tbody>\n",
       "    <tr>\n",
       "      <th>Austria</th>\n",
       "      <td>Austria</td>\n",
       "      <td>71</td>\n",
       "      <td>Max Verstappen</td>\n",
       "      <td>RED BULL RACING HONDA</td>\n",
       "    </tr>\n",
       "    <tr>\n",
       "      <th>Germany</th>\n",
       "      <td>Germany</td>\n",
       "      <td>64</td>\n",
       "      <td>Max Verstappen</td>\n",
       "      <td>RED BULL RACING HONDA</td>\n",
       "    </tr>\n",
       "    <tr>\n",
       "      <th>Belgium</th>\n",
       "      <td>Belgium</td>\n",
       "      <td>44</td>\n",
       "      <td>Charles Leclerc</td>\n",
       "      <td>FERRARI</td>\n",
       "    </tr>\n",
       "    <tr>\n",
       "      <th>Italy</th>\n",
       "      <td>Italy</td>\n",
       "      <td>53</td>\n",
       "      <td>Charles Leclerc</td>\n",
       "      <td>FERRARI</td>\n",
       "    </tr>\n",
       "    <tr>\n",
       "      <th>Singapore</th>\n",
       "      <td>Singapore</td>\n",
       "      <td>61</td>\n",
       "      <td>Sebastian Vettel</td>\n",
       "      <td>FERRARI</td>\n",
       "    </tr>\n",
       "    <tr>\n",
       "      <th>Brazil</th>\n",
       "      <td>Brazil</td>\n",
       "      <td>71</td>\n",
       "      <td>Max Verstappen</td>\n",
       "      <td>RED BULL RACING HONDA</td>\n",
       "    </tr>\n",
       "  </tbody>\n",
       "</table>\n",
       "</div>"
      ],
      "text/plain": [
       "           grand_prix  laps            winner                    car\n",
       "grand_prix                                                          \n",
       "Austria       Austria    71    Max Verstappen  RED BULL RACING HONDA\n",
       "Germany       Germany    64    Max Verstappen  RED BULL RACING HONDA\n",
       "Belgium       Belgium    44   Charles Leclerc                FERRARI\n",
       "Italy           Italy    53   Charles Leclerc                FERRARI\n",
       "Singapore   Singapore    61  Sebastian Vettel                FERRARI\n",
       "Brazil         Brazil    71    Max Verstappen  RED BULL RACING HONDA"
      ]
     },
     "execution_count": 56,
     "metadata": {},
     "output_type": "execute_result"
    }
   ],
   "source": [
    "# Find races that Mercedes did not win first place.\n",
    "f1_2019_races[f1_2019_races['car'] != 'MERCEDES']"
   ]
  },
  {
   "cell_type": "markdown",
   "metadata": {},
   "source": [
    "When using multiple conditions be sure to:  \n",
    "* separate each condition with the & sign  \n",
    "* wrap each condition in parentheses"
   ]
  },
  {
   "cell_type": "code",
   "execution_count": 57,
   "metadata": {},
   "outputs": [
    {
     "data": {
      "text/html": [
       "<div>\n",
       "<style scoped>\n",
       "    .dataframe tbody tr th:only-of-type {\n",
       "        vertical-align: middle;\n",
       "    }\n",
       "\n",
       "    .dataframe tbody tr th {\n",
       "        vertical-align: top;\n",
       "    }\n",
       "\n",
       "    .dataframe thead th {\n",
       "        text-align: right;\n",
       "    }\n",
       "</style>\n",
       "<table border=\"1\" class=\"dataframe\">\n",
       "  <thead>\n",
       "    <tr style=\"text-align: right;\">\n",
       "      <th></th>\n",
       "      <th>grand_prix</th>\n",
       "      <th>laps</th>\n",
       "      <th>winner</th>\n",
       "      <th>car</th>\n",
       "    </tr>\n",
       "    <tr>\n",
       "      <th>grand_prix</th>\n",
       "      <th></th>\n",
       "      <th></th>\n",
       "      <th></th>\n",
       "      <th></th>\n",
       "    </tr>\n",
       "  </thead>\n",
       "  <tbody>\n",
       "    <tr>\n",
       "      <th>Australia</th>\n",
       "      <td>Australia</td>\n",
       "      <td>58</td>\n",
       "      <td>Valtteri Bottas</td>\n",
       "      <td>MERCEDES</td>\n",
       "    </tr>\n",
       "    <tr>\n",
       "      <th>Azerbaijan</th>\n",
       "      <td>Azerbaijan</td>\n",
       "      <td>51</td>\n",
       "      <td>Valtteri Bottas</td>\n",
       "      <td>MERCEDES</td>\n",
       "    </tr>\n",
       "    <tr>\n",
       "      <th>Belgium</th>\n",
       "      <td>Belgium</td>\n",
       "      <td>44</td>\n",
       "      <td>Charles Leclerc</td>\n",
       "      <td>FERRARI</td>\n",
       "    </tr>\n",
       "    <tr>\n",
       "      <th>Italy</th>\n",
       "      <td>Italy</td>\n",
       "      <td>53</td>\n",
       "      <td>Charles Leclerc</td>\n",
       "      <td>FERRARI</td>\n",
       "    </tr>\n",
       "    <tr>\n",
       "      <th>Japan</th>\n",
       "      <td>Japan</td>\n",
       "      <td>52</td>\n",
       "      <td>Valtteri Bottas</td>\n",
       "      <td>MERCEDES</td>\n",
       "    </tr>\n",
       "    <tr>\n",
       "      <th>United States</th>\n",
       "      <td>United States</td>\n",
       "      <td>56</td>\n",
       "      <td>Valtteri Bottas</td>\n",
       "      <td>MERCEDES</td>\n",
       "    </tr>\n",
       "  </tbody>\n",
       "</table>\n",
       "</div>"
      ],
      "text/plain": [
       "                  grand_prix  laps           winner       car\n",
       "grand_prix                                                   \n",
       "Australia          Australia    58  Valtteri Bottas  MERCEDES\n",
       "Azerbaijan        Azerbaijan    51  Valtteri Bottas  MERCEDES\n",
       "Belgium              Belgium    44  Charles Leclerc   FERRARI\n",
       "Italy                  Italy    53  Charles Leclerc   FERRARI\n",
       "Japan                  Japan    52  Valtteri Bottas  MERCEDES\n",
       "United States  United States    56  Valtteri Bottas  MERCEDES"
      ]
     },
     "execution_count": 57,
     "metadata": {},
     "output_type": "execute_result"
    }
   ],
   "source": [
    "# Find the races where the race had less than 60 laps and the winner was someone other than Lewis Hamilton\n",
    "f1_2019_races[(f1_2019_races['laps'] < 60) & (f1_2019_races['winner'] != 'Lewis Hamilton')]"
   ]
  },
  {
   "cell_type": "markdown",
   "metadata": {},
   "source": [
    "<a id=\"resources\"></a>\n",
    "### Resources\n",
    "\n",
    "* [User Guide](https://pandas.pydata.org/pandas-docs/stable/user_guide/index.html)\n",
    "* [Pandas Category Data Type](https://pbpython.com/pandas_dtypes_cat.html)"
   ]
  },
  {
   "cell_type": "markdown",
   "metadata": {},
   "source": [
    "![Capivara](../imgs/capivara.jpg)"
   ]
  }
 ],
 "metadata": {
  "kernelspec": {
   "display_name": "Python 3 (ipykernel)",
   "language": "python",
   "name": "python3"
  },
  "language_info": {
   "codemirror_mode": {
    "name": "ipython",
    "version": 3
   },
   "file_extension": ".py",
   "mimetype": "text/x-python",
   "name": "python",
   "nbconvert_exporter": "python",
   "pygments_lexer": "ipython3",
   "version": "3.12.5"
  },
  "nteract": {
   "version": "0.21.0"
  }
 },
 "nbformat": 4,
 "nbformat_minor": 4
}
